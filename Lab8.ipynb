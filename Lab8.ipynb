{
  "nbformat": 4,
  "nbformat_minor": 0,
  "metadata": {
    "colab": {
      "name": "Lab8.ipynb",
      "provenance": [],
      "include_colab_link": true
    },
    "kernelspec": {
      "name": "python3",
      "display_name": "Python 3"
    }
  },
  "cells": [
    {
      "cell_type": "markdown",
      "metadata": {
        "id": "view-in-github",
        "colab_type": "text"
      },
      "source": [
        "<a href=\"https://colab.research.google.com/github/kamonsiri080/DW/blob/master/Lab8.ipynb\" target=\"_parent\"><img src=\"https://colab.research.google.com/assets/colab-badge.svg\" alt=\"Open In Colab\"/></a>"
      ]
    },
    {
      "cell_type": "markdown",
      "metadata": {
        "id": "FB4eJe3BiP6C",
        "colab_type": "text"
      },
      "source": [
        "# Hello Python"
      ]
    },
    {
      "cell_type": "code",
      "metadata": {
        "id": "zSQ7vpiHiie-",
        "colab_type": "code",
        "colab": {
          "base_uri": "https://localhost:8080/",
          "height": 34
        },
        "outputId": "d96bdd27-8490-4c21-e288-16f4569ab4e5"
      },
      "source": [
        "print(\"Hello World\")"
      ],
      "execution_count": 1,
      "outputs": [
        {
          "output_type": "stream",
          "text": [
            "Hello World\n"
          ],
          "name": "stdout"
        }
      ]
    },
    {
      "cell_type": "markdown",
      "metadata": {
        "id": "v2kMdDnQjLhH",
        "colab_type": "text"
      },
      "source": [
        "# Declare Variable\n",
        "How to declare vaariable in Python\n"
      ]
    },
    {
      "cell_type": "code",
      "metadata": {
        "id": "tLSmqNKejbzO",
        "colab_type": "code",
        "colab": {
          "base_uri": "https://localhost:8080/",
          "height": 34
        },
        "outputId": "3c6d51b5-f950-4e47-aedd-39bdfdc89c33"
      },
      "source": [
        "score = 100\n",
        "name = \"Kamonsiri\"\n",
        "print(\"Name is \" + name + \" score is \"+ str(score))\n",
        "\n"
      ],
      "execution_count": 8,
      "outputs": [
        {
          "output_type": "stream",
          "text": [
            "Name is Kamonsiri score is 100\n"
          ],
          "name": "stdout"
        }
      ]
    },
    {
      "cell_type": "code",
      "metadata": {
        "id": "5Lg9ooqpkEn7",
        "colab_type": "code",
        "colab": {
          "base_uri": "https://localhost:8080/",
          "height": 34
        },
        "outputId": "a01e0969-75aa-4434-dfb9-4842eb52f26d"
      },
      "source": [
        "a = 2\n",
        "b = 3\n",
        "c = a * b\n",
        "print(c)"
      ],
      "execution_count": 3,
      "outputs": [
        {
          "output_type": "stream",
          "text": [
            "6\n"
          ],
          "name": "stdout"
        }
      ]
    },
    {
      "cell_type": "markdown",
      "metadata": {
        "id": "-0vgx_jjm1kk",
        "colab_type": "text"
      },
      "source": [
        "# List\n",
        "\n",
        "How to use list PtThon "
      ]
    },
    {
      "cell_type": "code",
      "metadata": {
        "id": "5taaRln1mxBr",
        "colab_type": "code",
        "colab": {
          "base_uri": "https://localhost:8080/",
          "height": 34
        },
        "outputId": "3b72697b-94ab-4999-d75c-27b2f37e86b7"
      },
      "source": [
        "mylist = []\n",
        "mylist.append(\"Phasit\")\n",
        "mylist.append(200)\n",
        "mylist"
      ],
      "execution_count": 10,
      "outputs": [
        {
          "output_type": "execute_result",
          "data": {
            "text/plain": [
              "['Phasit', 200]"
            ]
          },
          "metadata": {
            "tags": []
          },
          "execution_count": 10
        }
      ]
    },
    {
      "cell_type": "markdown",
      "metadata": {
        "id": "ZJWmnMGWnpH7",
        "colab_type": "text"
      },
      "source": [
        "How to count data in list "
      ]
    },
    {
      "cell_type": "code",
      "metadata": {
        "id": "woGYmA_Sny8z",
        "colab_type": "code",
        "colab": {
          "base_uri": "https://localhost:8080/",
          "height": 34
        },
        "outputId": "0010f414-5e71-4596-ebec-6f0d4364ba5b"
      },
      "source": [
        "len(mylist)"
      ],
      "execution_count": 11,
      "outputs": [
        {
          "output_type": "execute_result",
          "data": {
            "text/plain": [
              "2"
            ]
          },
          "metadata": {
            "tags": []
          },
          "execution_count": 11
        }
      ]
    },
    {
      "cell_type": "code",
      "metadata": {
        "id": "wY5Weh5Bn6Hj",
        "colab_type": "code",
        "colab": {}
      },
      "source": [
        ""
      ],
      "execution_count": 0,
      "outputs": []
    },
    {
      "cell_type": "markdown",
      "metadata": {
        "id": "xy4GUe8xn8Y7",
        "colab_type": "text"
      },
      "source": [
        "#If-eles PyThon\n",
        "How to use if-eles in PyThon"
      ]
    },
    {
      "cell_type": "code",
      "metadata": {
        "id": "bAAuWyIDoHUC",
        "colab_type": "code",
        "colab": {
          "base_uri": "https://localhost:8080/",
          "height": 34
        },
        "outputId": "331f879b-8b11-4f34-c224-d39ddbb5ba5c"
      },
      "source": [
        "if mylist[1] > 100 :\n",
        "  print(\"Pass\")"
      ],
      "execution_count": 13,
      "outputs": [
        {
          "output_type": "stream",
          "text": [
            "Pass\n"
          ],
          "name": "stdout"
        }
      ]
    },
    {
      "cell_type": "code",
      "metadata": {
        "id": "cSBrmq6eoRzS",
        "colab_type": "code",
        "colab": {
          "base_uri": "https://localhost:8080/",
          "height": 34
        },
        "outputId": "55bdf9a4-db6f-4070-f606-389e366065c4"
      },
      "source": [
        "if mylist[1] > 100 :\n",
        "  name = mylist[0]\n",
        "  score = mylist[1]\n",
        "  print(name+\" \"+str(score))\n",
        "elif mylist[1] > 200 :\n",
        "  print(\"Very Pass\")\n",
        "else:\n",
        "  print(\"Super Pass\")"
      ],
      "execution_count": 18,
      "outputs": [
        {
          "output_type": "stream",
          "text": [
            "Phasit 200\n"
          ],
          "name": "stdout"
        }
      ]
    },
    {
      "cell_type": "code",
      "metadata": {
        "id": "nJ8Qh96apS_q",
        "colab_type": "code",
        "colab": {
          "base_uri": "https://localhost:8080/",
          "height": 34
        },
        "outputId": "bec84b14-0275-4d5e-ec41-d886a1727311"
      },
      "source": [
        "score = 76\n",
        "if score > 80 :\n",
        "  print(\"A\")\n",
        "elif score > 70 :\n",
        "  print(\"B\")\n",
        "elif score > 60 :\n",
        "  print(\"C\")\n",
        "elif score > 50 :\n",
        "  print(\"D\")\n",
        "else :\n",
        "  print(\"F\")"
      ],
      "execution_count": 19,
      "outputs": [
        {
          "output_type": "stream",
          "text": [
            "B\n"
          ],
          "name": "stdout"
        }
      ]
    },
    {
      "cell_type": "markdown",
      "metadata": {
        "id": "J8PcjOsiqmAS",
        "colab_type": "text"
      },
      "source": [
        ""
      ]
    },
    {
      "cell_type": "markdown",
      "metadata": {
        "id": "mBrf72oGqnfh",
        "colab_type": "text"
      },
      "source": [
        "# For Loop in Python\n",
        "How to use for loop"
      ]
    },
    {
      "cell_type": "code",
      "metadata": {
        "id": "FYnMsdLaqwlY",
        "colab_type": "code",
        "colab": {
          "base_uri": "https://localhost:8080/",
          "height": 204
        },
        "outputId": "2a6b1546-307c-41e8-bbc0-795109c1a0f5"
      },
      "source": [
        "summation = 0\n",
        "for i in range(0,10):\n",
        "  print(str(i))\n",
        "  summation = summation+1\n",
        "print(summation)\n",
        " "
      ],
      "execution_count": 22,
      "outputs": [
        {
          "output_type": "stream",
          "text": [
            "0\n",
            "1\n",
            "2\n",
            "3\n",
            "4\n",
            "5\n",
            "6\n",
            "7\n",
            "8\n",
            "9\n",
            "10\n"
          ],
          "name": "stdout"
        }
      ]
    },
    {
      "cell_type": "code",
      "metadata": {
        "id": "nL8N2CBerYzA",
        "colab_type": "code",
        "colab": {
          "base_uri": "https://localhost:8080/",
          "height": 204
        },
        "outputId": "0f003707-b470-4770-9c8c-4134c387750e"
      },
      "source": [
        "summation = []\n",
        "for i in range(0,10) :\n",
        "  summation.append(i)\n",
        "print (summation)\n",
        "  \n",
        "for i in summation :\n",
        "  print(str(i))"
      ],
      "execution_count": 24,
      "outputs": [
        {
          "output_type": "stream",
          "text": [
            "[0, 1, 2, 3, 4, 5, 6, 7, 8, 9]\n",
            "0\n",
            "1\n",
            "2\n",
            "3\n",
            "4\n",
            "5\n",
            "6\n",
            "7\n",
            "8\n",
            "9\n"
          ],
          "name": "stdout"
        }
      ]
    },
    {
      "cell_type": "markdown",
      "metadata": {
        "id": "UKV6160vsibp",
        "colab_type": "text"
      },
      "source": [
        "# For-Each Loop"
      ]
    },
    {
      "cell_type": "code",
      "metadata": {
        "id": "pgaLsdkUsP0t",
        "colab_type": "code",
        "colab": {
          "base_uri": "https://localhost:8080/",
          "height": 187
        },
        "outputId": "51b7d0f8-0ed3-4328-c516-df2b3f986116"
      },
      "source": [
        "for i in summation :\n",
        "    print(str(i))"
      ],
      "execution_count": 25,
      "outputs": [
        {
          "output_type": "stream",
          "text": [
            "0\n",
            "1\n",
            "2\n",
            "3\n",
            "4\n",
            "5\n",
            "6\n",
            "7\n",
            "8\n",
            "9\n"
          ],
          "name": "stdout"
        }
      ]
    },
    {
      "cell_type": "markdown",
      "metadata": {
        "id": "d3PivHbuvS-A",
        "colab_type": "text"
      },
      "source": [
        "# NumPy\n",
        "Library for matrix operation"
      ]
    },
    {
      "cell_type": "code",
      "metadata": {
        "id": "rrzCqbwus9p9",
        "colab_type": "code",
        "colab": {}
      },
      "source": [
        "import numpy as np"
      ],
      "execution_count": 0,
      "outputs": []
    },
    {
      "cell_type": "code",
      "metadata": {
        "id": "DOOizHYnvo56",
        "colab_type": "code",
        "colab": {
          "base_uri": "https://localhost:8080/",
          "height": 34
        },
        "outputId": "eb71f50f-e655-41ac-e1cd-cb210648a271"
      },
      "source": [
        "l = [1,2,3,4,5]\n",
        "np_array = np.array(1)\n",
        "type(np_array)"
      ],
      "execution_count": 27,
      "outputs": [
        {
          "output_type": "execute_result",
          "data": {
            "text/plain": [
              "numpy.ndarray"
            ]
          },
          "metadata": {
            "tags": []
          },
          "execution_count": 27
        }
      ]
    },
    {
      "cell_type": "code",
      "metadata": {
        "id": "R89io9kNxonL",
        "colab_type": "code",
        "colab": {}
      },
      "source": [
        ""
      ],
      "execution_count": 0,
      "outputs": []
    },
    {
      "cell_type": "markdown",
      "metadata": {
        "id": "zTHNwsrKxtXV",
        "colab_type": "text"
      },
      "source": [
        "Create Matrix\n"
      ]
    },
    {
      "cell_type": "code",
      "metadata": {
        "id": "fP_jF3bpxyQj",
        "colab_type": "code",
        "colab": {}
      },
      "source": [
        "np_matrix = np.array([[1,2],[3,4],[5,6]])"
      ],
      "execution_count": 0,
      "outputs": []
    },
    {
      "cell_type": "code",
      "metadata": {
        "id": "d2ISdavuyB6z",
        "colab_type": "code",
        "colab": {
          "base_uri": "https://localhost:8080/",
          "height": 68
        },
        "outputId": "2bc4f170-7a1b-4ef2-8131-cbb1c833119c"
      },
      "source": [
        "np_matrix"
      ],
      "execution_count": 30,
      "outputs": [
        {
          "output_type": "execute_result",
          "data": {
            "text/plain": [
              "array([[1, 2],\n",
              "       [3, 4],\n",
              "       [5, 6]])"
            ]
          },
          "metadata": {
            "tags": []
          },
          "execution_count": 30
        }
      ]
    },
    {
      "cell_type": "markdown",
      "metadata": {
        "id": "XUW-cI2cyIHs",
        "colab_type": "text"
      },
      "source": [
        "Check Matrix Size"
      ]
    },
    {
      "cell_type": "code",
      "metadata": {
        "id": "jD-GbW7vyGmr",
        "colab_type": "code",
        "colab": {
          "base_uri": "https://localhost:8080/",
          "height": 34
        },
        "outputId": "dd3398e2-ddb3-4c5e-9b47-5020864f1022"
      },
      "source": [
        "np.size(np_matrix,0)"
      ],
      "execution_count": 31,
      "outputs": [
        {
          "output_type": "execute_result",
          "data": {
            "text/plain": [
              "3"
            ]
          },
          "metadata": {
            "tags": []
          },
          "execution_count": 31
        }
      ]
    },
    {
      "cell_type": "code",
      "metadata": {
        "id": "scru7dj9yUyz",
        "colab_type": "code",
        "colab": {
          "base_uri": "https://localhost:8080/",
          "height": 34
        },
        "outputId": "537519e4-ffd9-46b5-f8cf-103714dee5ba"
      },
      "source": [
        "np.size(np_matrix,1)"
      ],
      "execution_count": 32,
      "outputs": [
        {
          "output_type": "execute_result",
          "data": {
            "text/plain": [
              "2"
            ]
          },
          "metadata": {
            "tags": []
          },
          "execution_count": 32
        }
      ]
    },
    {
      "cell_type": "markdown",
      "metadata": {
        "id": "87ZDVuByydAs",
        "colab_type": "text"
      },
      "source": [
        "Check Matrix Properties"
      ]
    },
    {
      "cell_type": "code",
      "metadata": {
        "id": "vkB05JWGya_L",
        "colab_type": "code",
        "colab": {
          "base_uri": "https://localhost:8080/",
          "height": 34
        },
        "outputId": "83f63e23-1bf2-4ada-e352-f6b2decf0401"
      },
      "source": [
        "np_matrix.shape"
      ],
      "execution_count": 33,
      "outputs": [
        {
          "output_type": "execute_result",
          "data": {
            "text/plain": [
              "(3, 2)"
            ]
          },
          "metadata": {
            "tags": []
          },
          "execution_count": 33
        }
      ]
    },
    {
      "cell_type": "code",
      "metadata": {
        "id": "w2tghLBnyrSS",
        "colab_type": "code",
        "colab": {
          "base_uri": "https://localhost:8080/",
          "height": 34
        },
        "outputId": "4c8ff059-04ef-4f9b-9dbe-9f55e312379f"
      },
      "source": [
        "np_matrix.ndim"
      ],
      "execution_count": 35,
      "outputs": [
        {
          "output_type": "execute_result",
          "data": {
            "text/plain": [
              "2"
            ]
          },
          "metadata": {
            "tags": []
          },
          "execution_count": 35
        }
      ]
    },
    {
      "cell_type": "code",
      "metadata": {
        "id": "LxkTR8QCyu2y",
        "colab_type": "code",
        "colab": {
          "base_uri": "https://localhost:8080/",
          "height": 34
        },
        "outputId": "49410943-b0de-4b9f-cd31-6175cf225dc5"
      },
      "source": [
        "np_matrix.size"
      ],
      "execution_count": 36,
      "outputs": [
        {
          "output_type": "execute_result",
          "data": {
            "text/plain": [
              "6"
            ]
          },
          "metadata": {
            "tags": []
          },
          "execution_count": 36
        }
      ]
    },
    {
      "cell_type": "markdown",
      "metadata": {
        "id": "XNBeakWTy8RR",
        "colab_type": "text"
      },
      "source": [
        "Create Matrix with data Type"
      ]
    },
    {
      "cell_type": "code",
      "metadata": {
        "id": "jwSosmOYy69a",
        "colab_type": "code",
        "colab": {}
      },
      "source": [
        "np_mix_matrix = np.array([['one',2],['three',4],['five',6]])"
      ],
      "execution_count": 0,
      "outputs": []
    },
    {
      "cell_type": "code",
      "metadata": {
        "id": "9AJ-tcyJzc-1",
        "colab_type": "code",
        "colab": {
          "base_uri": "https://localhost:8080/",
          "height": 68
        },
        "outputId": "be7bfa82-9ef9-4efd-f14e-0f332bd79c8c"
      },
      "source": [
        "np_mix_matrix"
      ],
      "execution_count": 39,
      "outputs": [
        {
          "output_type": "execute_result",
          "data": {
            "text/plain": [
              "array([['one', '2'],\n",
              "       ['three', '4'],\n",
              "       ['five', '6']], dtype='<U5')"
            ]
          },
          "metadata": {
            "tags": []
          },
          "execution_count": 39
        }
      ]
    },
    {
      "cell_type": "markdown",
      "metadata": {
        "id": "AcktgL6ozpYb",
        "colab_type": "text"
      },
      "source": [
        "Access matrix element"
      ]
    },
    {
      "cell_type": "code",
      "metadata": {
        "id": "IeQadunqznNB",
        "colab_type": "code",
        "colab": {
          "base_uri": "https://localhost:8080/",
          "height": 34
        },
        "outputId": "3f681bc7-9e52-4bed-c358-65e9a5684a7c"
      },
      "source": [
        "np_mix_matrix[0,1]"
      ],
      "execution_count": 40,
      "outputs": [
        {
          "output_type": "execute_result",
          "data": {
            "text/plain": [
              "'2'"
            ]
          },
          "metadata": {
            "tags": []
          },
          "execution_count": 40
        }
      ]
    },
    {
      "cell_type": "markdown",
      "metadata": {
        "id": "fKuTnwFWz_L7",
        "colab_type": "text"
      },
      "source": [
        "Access all column of matrix"
      ]
    },
    {
      "cell_type": "code",
      "metadata": {
        "id": "wEMjsQ5Mz-Fp",
        "colab_type": "code",
        "colab": {
          "base_uri": "https://localhost:8080/",
          "height": 34
        },
        "outputId": "d7a98f24-2294-4ed4-8427-445ed726b384"
      },
      "source": [
        "np_mix_matrix[:,0]"
      ],
      "execution_count": 42,
      "outputs": [
        {
          "output_type": "execute_result",
          "data": {
            "text/plain": [
              "array(['one', 'three', 'five'], dtype='<U5')"
            ]
          },
          "metadata": {
            "tags": []
          },
          "execution_count": 42
        }
      ]
    },
    {
      "cell_type": "markdown",
      "metadata": {
        "id": "QOLAj8jn0TEz",
        "colab_type": "text"
      },
      "source": [
        "Access all row of matrix"
      ]
    },
    {
      "cell_type": "code",
      "metadata": {
        "id": "d7u0kKiG0Oo5",
        "colab_type": "code",
        "colab": {
          "base_uri": "https://localhost:8080/",
          "height": 34
        },
        "outputId": "3703c7d0-aaa6-4662-b78e-7f17c44f71a9"
      },
      "source": [
        "np_mix_matrix[0,]"
      ],
      "execution_count": 43,
      "outputs": [
        {
          "output_type": "execute_result",
          "data": {
            "text/plain": [
              "array(['one', '2'], dtype='<U5')"
            ]
          },
          "metadata": {
            "tags": []
          },
          "execution_count": 43
        }
      ]
    },
    {
      "cell_type": "markdown",
      "metadata": {
        "id": "KZ5LWWcT0z6a",
        "colab_type": "text"
      },
      "source": [
        "Access element from row 0 to row 1"
      ]
    },
    {
      "cell_type": "code",
      "metadata": {
        "id": "-mCANqlY0yGo",
        "colab_type": "code",
        "colab": {
          "base_uri": "https://localhost:8080/",
          "height": 51
        },
        "outputId": "5ef36652-dcd3-4e8f-bd9c-a7e97215f63a"
      },
      "source": [
        "np_mix_matrix[0:2,]"
      ],
      "execution_count": 44,
      "outputs": [
        {
          "output_type": "execute_result",
          "data": {
            "text/plain": [
              "array([['one', '2'],\n",
              "       ['three', '4']], dtype='<U5')"
            ]
          },
          "metadata": {
            "tags": []
          },
          "execution_count": 44
        }
      ]
    },
    {
      "cell_type": "markdown",
      "metadata": {
        "id": "0HYbSet41Yn0",
        "colab_type": "text"
      },
      "source": [
        "Type casting ndarray object"
      ]
    },
    {
      "cell_type": "code",
      "metadata": {
        "id": "LA1mlpD91PBY",
        "colab_type": "code",
        "colab": {
          "base_uri": "https://localhost:8080/",
          "height": 34
        },
        "outputId": "ab985e2e-2ae0-4fff-f912-3b1c6255f7bb"
      },
      "source": [
        "np.array(np_mix_matrix[:,1], dtype = int)"
      ],
      "execution_count": 46,
      "outputs": [
        {
          "output_type": "execute_result",
          "data": {
            "text/plain": [
              "array([2, 4, 6])"
            ]
          },
          "metadata": {
            "tags": []
          },
          "execution_count": 46
        }
      ]
    },
    {
      "cell_type": "markdown",
      "metadata": {
        "id": "L7vAIx0A15cx",
        "colab_type": "text"
      },
      "source": [
        "Create matrix of zeros"
      ]
    },
    {
      "cell_type": "code",
      "metadata": {
        "id": "Tou9Qhk8134g",
        "colab_type": "code",
        "colab": {
          "base_uri": "https://localhost:8080/",
          "height": 51
        },
        "outputId": "3e55cb62-febf-4948-f2be-2351c24c73d6"
      },
      "source": [
        "np.zeros([2,3])"
      ],
      "execution_count": 47,
      "outputs": [
        {
          "output_type": "execute_result",
          "data": {
            "text/plain": [
              "array([[0., 0., 0.],\n",
              "       [0., 0., 0.]])"
            ]
          },
          "metadata": {
            "tags": []
          },
          "execution_count": 47
        }
      ]
    },
    {
      "cell_type": "markdown",
      "metadata": {
        "id": "ahbr05042GdR",
        "colab_type": "text"
      },
      "source": [
        "Create matrix of ones"
      ]
    },
    {
      "cell_type": "code",
      "metadata": {
        "id": "rYQKncrf2FNH",
        "colab_type": "code",
        "colab": {
          "base_uri": "https://localhost:8080/",
          "height": 102
        },
        "outputId": "dbb70213-1d56-4081-ba3d-08ea66570b7d"
      },
      "source": [
        "np.ones([5,5])"
      ],
      "execution_count": 48,
      "outputs": [
        {
          "output_type": "execute_result",
          "data": {
            "text/plain": [
              "array([[1., 1., 1., 1., 1.],\n",
              "       [1., 1., 1., 1., 1.],\n",
              "       [1., 1., 1., 1., 1.],\n",
              "       [1., 1., 1., 1., 1.],\n",
              "       [1., 1., 1., 1., 1.]])"
            ]
          },
          "metadata": {
            "tags": []
          },
          "execution_count": 48
        }
      ]
    },
    {
      "cell_type": "markdown",
      "metadata": {
        "id": "QDvC1Sz02Rfi",
        "colab_type": "text"
      },
      "source": [
        "Create Eye Matrix"
      ]
    },
    {
      "cell_type": "code",
      "metadata": {
        "id": "PMtsSJIC2Ppw",
        "colab_type": "code",
        "colab": {
          "base_uri": "https://localhost:8080/",
          "height": 102
        },
        "outputId": "3330c8c1-93e6-4a14-8146-2b81a5b67913"
      },
      "source": [
        "np.eye(5)"
      ],
      "execution_count": 49,
      "outputs": [
        {
          "output_type": "execute_result",
          "data": {
            "text/plain": [
              "array([[1., 0., 0., 0., 0.],\n",
              "       [0., 1., 0., 0., 0.],\n",
              "       [0., 0., 1., 0., 0.],\n",
              "       [0., 0., 0., 1., 0.],\n",
              "       [0., 0., 0., 0., 1.]])"
            ]
          },
          "metadata": {
            "tags": []
          },
          "execution_count": 49
        }
      ]
    },
    {
      "cell_type": "markdown",
      "metadata": {
        "id": "ZvB1u44H2bmo",
        "colab_type": "text"
      },
      "source": [
        "Create Empty Matrix"
      ]
    },
    {
      "cell_type": "code",
      "metadata": {
        "id": "3rk7czsW2aQo",
        "colab_type": "code",
        "colab": {
          "base_uri": "https://localhost:8080/",
          "height": 221
        },
        "outputId": "9b999e6a-aaf7-40d7-fc2a-4fbe6c99b360"
      },
      "source": [
        "np.empty([6,6])"
      ],
      "execution_count": 52,
      "outputs": [
        {
          "output_type": "execute_result",
          "data": {
            "text/plain": [
              "array([[2.21050503e-316, 1.14129164e-321, 0.00000000e+000,\n",
              "        0.00000000e+000, 0.00000000e+000, 1.16095484e-028],\n",
              "       [9.75020152e+199, 8.53481960e+136, 2.45342609e+198,\n",
              "        4.34577426e-114, 1.89891185e+136, 2.06862681e+161],\n",
              "       [4.06874372e+233, 4.07189533e+223, 5.27164030e+246,\n",
              "        9.08367203e+223, 2.58004446e+185, 1.81450396e-152],\n",
              "       [4.82406556e+228, 1.25184843e+232, 2.18175683e+243,\n",
              "        3.97062309e+246, 2.77621464e+184, 1.47763669e+248],\n",
              "       [1.78879622e+161, 5.18775165e+141, 3.51022257e+151,\n",
              "        1.30424409e-142, 1.70546600e+256, 1.75718683e+243],\n",
              "       [9.95923263e-143, 1.91077948e+214, 7.34295013e+223,\n",
              "        2.61635962e-306, 0.00000000e+000, 0.00000000e+000]])"
            ]
          },
          "metadata": {
            "tags": []
          },
          "execution_count": 52
        }
      ]
    },
    {
      "cell_type": "markdown",
      "metadata": {
        "id": "nGEilI_z3SHi",
        "colab_type": "text"
      },
      "source": [
        "Random matrix of size = (5,5)"
      ]
    },
    {
      "cell_type": "code",
      "metadata": {
        "id": "0T7LJ1GO3EAH",
        "colab_type": "code",
        "colab": {
          "base_uri": "https://localhost:8080/",
          "height": 102
        },
        "outputId": "f8c09e28-38fa-4cb4-f7fc-fa090e2c8744"
      },
      "source": [
        "np.random.rand(5,5)"
      ],
      "execution_count": 53,
      "outputs": [
        {
          "output_type": "execute_result",
          "data": {
            "text/plain": [
              "array([[0.43087092, 0.76774722, 0.36150154, 0.03300854, 0.56947724],\n",
              "       [0.15863899, 0.38407763, 0.68771835, 0.71438101, 0.57815335],\n",
              "       [0.75439494, 0.51163644, 0.22848434, 0.46269356, 0.23573753],\n",
              "       [0.64239826, 0.72738695, 0.04345778, 0.85206481, 0.11898171],\n",
              "       [0.6401184 , 0.48580469, 0.13514204, 0.54921412, 0.24492738]])"
            ]
          },
          "metadata": {
            "tags": []
          },
          "execution_count": 53
        }
      ]
    },
    {
      "cell_type": "markdown",
      "metadata": {
        "id": "MOo_z01A3pCp",
        "colab_type": "text"
      },
      "source": [
        "Random matrix of size = 3,3 having value between 0 to 4"
      ]
    },
    {
      "cell_type": "code",
      "metadata": {
        "id": "8SD0pwrL3mqG",
        "colab_type": "code",
        "colab": {
          "base_uri": "https://localhost:8080/",
          "height": 68
        },
        "outputId": "bfc69bd8-40f7-4662-d49a-6890d6053a33"
      },
      "source": [
        "np.random.randint(5,size = (3,3))"
      ],
      "execution_count": 54,
      "outputs": [
        {
          "output_type": "execute_result",
          "data": {
            "text/plain": [
              "array([[4, 2, 0],\n",
              "       [1, 2, 4],\n",
              "       [0, 1, 0]])"
            ]
          },
          "metadata": {
            "tags": []
          },
          "execution_count": 54
        }
      ]
    },
    {
      "cell_type": "markdown",
      "metadata": {
        "id": "goJPEFzP4CEh",
        "colab_type": "text"
      },
      "source": [
        "Uniform Random distribution vs. Normal distribution"
      ]
    },
    {
      "cell_type": "code",
      "metadata": {
        "id": "rsPO-4-O39-2",
        "colab_type": "code",
        "colab": {
          "base_uri": "https://localhost:8080/",
          "height": 214
        },
        "outputId": "d6030739-eb78-42af-e766-db190ed2a5aa"
      },
      "source": [
        "import matplotlib.pyplot as plt\n",
        "fig, axes = plt.subplots(1,2,figsize=(8,3))\n",
        "axes[0].hist(np.random.rand(1000))\n",
        "axes[1].hist(np.random.randn(1000))\n",
        "plt.show()"
      ],
      "execution_count": 55,
      "outputs": [
        {
          "output_type": "display_data",
          "data": {
            "image/png": "[encoded data removed]",
            "text/plain": [
              "<Figure size 576x216 with 2 Axes>"
            ]
          },
          "metadata": {
            "tags": []
          }
        }
      ]
    },
    {
      "cell_type": "markdown",
      "metadata": {
        "id": "dok8Yxio45NI",
        "colab_type": "text"
      },
      "source": [
        "Randomly choose 3 number range from 0 to 4 "
      ]
    },
    {
      "cell_type": "code",
      "metadata": {
        "id": "YUAQTS5Y42v9",
        "colab_type": "code",
        "colab": {
          "base_uri": "https://localhost:8080/",
          "height": 34
        },
        "outputId": "e818f798-9a41-4c3e-d24c-06194cc83b72"
      },
      "source": [
        "np.random.choice(5,3,replace = False)"
      ],
      "execution_count": 58,
      "outputs": [
        {
          "output_type": "execute_result",
          "data": {
            "text/plain": [
              "array([1, 3, 4])"
            ]
          },
          "metadata": {
            "tags": []
          },
          "execution_count": 58
        }
      ]
    },
    {
      "cell_type": "markdown",
      "metadata": {
        "id": "a-imS2HJ5ZwH",
        "colab_type": "text"
      },
      "source": [
        "Randomly choose 3 row from 0 to 4 into new matrix"
      ]
    },
    {
      "cell_type": "code",
      "metadata": {
        "id": "JvyFior85QUl",
        "colab_type": "code",
        "colab": {
          "base_uri": "https://localhost:8080/",
          "height": 68
        },
        "outputId": "13774c79-3593-496a-ccb1-36918f8575c6"
      },
      "source": [
        "np_matrix = np.random.rand(5,5)\n",
        "idx_choose = np.random.choice(5,3,replace = False)\n",
        "np_matrix_choose = np_matrix[idx_choose,:]\n",
        "np_matrix_choose"
      ],
      "execution_count": 59,
      "outputs": [
        {
          "output_type": "execute_result",
          "data": {
            "text/plain": [
              "array([[0.7582232 , 0.04373302, 0.02854103, 0.61594908, 0.73557718],\n",
              "       [0.48067468, 0.57434553, 0.58301619, 0.23216333, 0.9947422 ],\n",
              "       [0.63206674, 0.13448798, 0.61912922, 0.11803909, 0.73572338]])"
            ]
          },
          "metadata": {
            "tags": []
          },
          "execution_count": 59
        }
      ]
    },
    {
      "cell_type": "markdown",
      "metadata": {
        "id": "Wv7GWKxg6J06",
        "colab_type": "text"
      },
      "source": [
        "# EX 1\n"
      ]
    },
    {
      "cell_type": "code",
      "metadata": {
        "id": "JhClYh4A6Hx0",
        "colab_type": "code",
        "colab": {
          "base_uri": "https://localhost:8080/",
          "height": 187
        },
        "outputId": "f2c0b260-240f-41c1-d957-73b5b567a840"
      },
      "source": [
        "a = np.random.rand (10,5)\n",
        "a\n"
      ],
      "execution_count": 81,
      "outputs": [
        {
          "output_type": "execute_result",
          "data": {
            "text/plain": [
              "array([[0.78559695, 0.35309421, 0.30468015, 0.66847602, 0.89551077],\n",
              "       [0.32599416, 0.03171366, 0.75357119, 0.57195557, 0.86868627],\n",
              "       [0.38911507, 0.72800684, 0.99405906, 0.40873029, 0.38006333],\n",
              "       [0.57571112, 0.55972055, 0.16472556, 0.48984418, 0.3726645 ],\n",
              "       [0.46870613, 0.77033228, 0.7870173 , 0.65027718, 0.02135812],\n",
              "       [0.71484726, 0.61578645, 0.65666733, 0.92330579, 0.75804767],\n",
              "       [0.73355047, 0.98397402, 0.37879693, 0.44925462, 0.27239628],\n",
              "       [0.31846784, 0.51427931, 0.62204666, 0.13415481, 0.17121226],\n",
              "       [0.64219551, 0.79727294, 0.2435219 , 0.64530257, 0.09623894],\n",
              "       [0.93614773, 0.45619097, 0.72365576, 0.31648682, 0.08434773]])"
            ]
          },
          "metadata": {
            "tags": []
          },
          "execution_count": 81
        }
      ]
    },
    {
      "cell_type": "code",
      "metadata": {
        "id": "ddyjjadA9g0D",
        "colab_type": "code",
        "colab": {
          "base_uri": "https://localhost:8080/",
          "height": 34
        },
        "outputId": "36e70e2b-434a-4448-afbd-f994e81ef455"
      },
      "source": [
        "b = np.random.randint(2,size = 10)\n",
        "b"
      ],
      "execution_count": 83,
      "outputs": [
        {
          "output_type": "execute_result",
          "data": {
            "text/plain": [
              "array([1, 1, 1, 1, 1, 1, 0, 0, 1, 0])"
            ]
          },
          "metadata": {
            "tags": []
          },
          "execution_count": 83
        }
      ]
    },
    {
      "cell_type": "code",
      "metadata": {
        "id": "kTb_RCm--l_5",
        "colab_type": "code",
        "colab": {
          "base_uri": "https://localhost:8080/",
          "height": 187
        },
        "outputId": "82b54e8f-6412-4529-824b-1548c57e142a"
      },
      "source": [
        "a[:,4] = b \n",
        "a"
      ],
      "execution_count": 84,
      "outputs": [
        {
          "output_type": "execute_result",
          "data": {
            "text/plain": [
              "array([[0.78559695, 0.35309421, 0.30468015, 0.66847602, 1.        ],\n",
              "       [0.32599416, 0.03171366, 0.75357119, 0.57195557, 1.        ],\n",
              "       [0.38911507, 0.72800684, 0.99405906, 0.40873029, 1.        ],\n",
              "       [0.57571112, 0.55972055, 0.16472556, 0.48984418, 1.        ],\n",
              "       [0.46870613, 0.77033228, 0.7870173 , 0.65027718, 1.        ],\n",
              "       [0.71484726, 0.61578645, 0.65666733, 0.92330579, 1.        ],\n",
              "       [0.73355047, 0.98397402, 0.37879693, 0.44925462, 0.        ],\n",
              "       [0.31846784, 0.51427931, 0.62204666, 0.13415481, 0.        ],\n",
              "       [0.64219551, 0.79727294, 0.2435219 , 0.64530257, 1.        ],\n",
              "       [0.93614773, 0.45619097, 0.72365576, 0.31648682, 0.        ]])"
            ]
          },
          "metadata": {
            "tags": []
          },
          "execution_count": 84
        }
      ]
    },
    {
      "cell_type": "markdown",
      "metadata": {
        "id": "rNQC3DmJAPFU",
        "colab_type": "text"
      },
      "source": [
        "Create maritx = np.random.randint(11,size = (5,5))"
      ]
    },
    {
      "cell_type": "code",
      "metadata": {
        "id": "e1Hv8QSA_f4v",
        "colab_type": "code",
        "colab": {
          "base_uri": "https://localhost:8080/",
          "height": 102
        },
        "outputId": "ce363101-0729-479d-e13f-3c4eb9677418"
      },
      "source": [
        "np_matrix = np.random.randint(3,size = (5,5))\n",
        "np_matrix"
      ],
      "execution_count": 85,
      "outputs": [
        {
          "output_type": "execute_result",
          "data": {
            "text/plain": [
              "array([[2, 2, 1, 0, 0],\n",
              "       [2, 2, 0, 0, 0],\n",
              "       [0, 1, 0, 1, 0],\n",
              "       [1, 0, 1, 0, 2],\n",
              "       [0, 1, 1, 0, 2]])"
            ]
          },
          "metadata": {
            "tags": []
          },
          "execution_count": 85
        }
      ]
    },
    {
      "cell_type": "markdown",
      "metadata": {
        "id": "TMzqyY2qAyMh",
        "colab_type": "text"
      },
      "source": [
        "Fine index of 2 from matrix "
      ]
    },
    {
      "cell_type": "code",
      "metadata": {
        "id": "EePInERDAxRg",
        "colab_type": "code",
        "colab": {
          "base_uri": "https://localhost:8080/",
          "height": 34
        },
        "outputId": "6f3b98e1-04f9-4508-b75d-f569d1ac3286"
      },
      "source": [
        "result = np.where(np_matrix == 2)\n",
        "result"
      ],
      "execution_count": 86,
      "outputs": [
        {
          "output_type": "execute_result",
          "data": {
            "text/plain": [
              "(array([0, 0, 1, 1, 3, 4]), array([0, 1, 0, 1, 4, 4]))"
            ]
          },
          "metadata": {
            "tags": []
          },
          "execution_count": 86
        }
      ]
    },
    {
      "cell_type": "markdown",
      "metadata": {
        "id": "j7WkiJpHBpvy",
        "colab_type": "text"
      },
      "source": [
        "Another way "
      ]
    },
    {
      "cell_type": "code",
      "metadata": {
        "id": "Ave1FQ-tBXvv",
        "colab_type": "code",
        "colab": {
          "base_uri": "https://localhost:8080/",
          "height": 102
        },
        "outputId": "3a0dfc93-9bb4-47f6-c5a4-58aec7f9ddb7"
      },
      "source": [
        "result = (np_matrix == 2)\n",
        "result"
      ],
      "execution_count": 87,
      "outputs": [
        {
          "output_type": "execute_result",
          "data": {
            "text/plain": [
              "array([[ True,  True, False, False, False],\n",
              "       [ True,  True, False, False, False],\n",
              "       [False, False, False, False, False],\n",
              "       [False, False, False, False,  True],\n",
              "       [False, False, False, False,  True]])"
            ]
          },
          "metadata": {
            "tags": []
          },
          "execution_count": 87
        }
      ]
    },
    {
      "cell_type": "markdown",
      "metadata": {
        "id": "sr8gAvqNB3IM",
        "colab_type": "text"
      },
      "source": [
        "Use to replace values"
      ]
    },
    {
      "cell_type": "code",
      "metadata": {
        "id": "clEovAV0B1G_",
        "colab_type": "code",
        "colab": {
          "base_uri": "https://localhost:8080/",
          "height": 102
        },
        "outputId": "a37772a7-cfbc-4557-ffb5-447ada251675"
      },
      "source": [
        "np_matrix[result]=99\n",
        "np_matrix"
      ],
      "execution_count": 89,
      "outputs": [
        {
          "output_type": "execute_result",
          "data": {
            "text/plain": [
              "array([[99, 99,  1,  0,  0],\n",
              "       [99, 99,  0,  0,  0],\n",
              "       [ 0,  1,  0,  1,  0],\n",
              "       [ 1,  0,  1,  0, 99],\n",
              "       [ 0,  1,  1,  0, 99]])"
            ]
          },
          "metadata": {
            "tags": []
          },
          "execution_count": 89
        }
      ]
    },
    {
      "cell_type": "markdown",
      "metadata": {
        "id": "JdazmPRdCGi8",
        "colab_type": "text"
      },
      "source": [
        "#Ex 2"
      ]
    },
    {
      "cell_type": "code",
      "metadata": {
        "id": "3kilGaWHCCCv",
        "colab_type": "code",
        "colab": {
          "base_uri": "https://localhost:8080/",
          "height": 187
        },
        "outputId": "97382bb2-b8b5-41d9-bb69-c2ff350ecb94"
      },
      "source": [
        "a = np.random.rand (10,5)\n",
        "a"
      ],
      "execution_count": 101,
      "outputs": [
        {
          "output_type": "execute_result",
          "data": {
            "text/plain": [
              "array([[0.46562597, 0.92090841, 0.61136459, 0.40928718, 0.01567885],\n",
              "       [0.24295966, 0.64591861, 0.69238472, 0.63739621, 0.96161143],\n",
              "       [0.30197237, 0.15183603, 0.63142739, 0.26703057, 0.41407603],\n",
              "       [0.73012501, 0.97694198, 0.92400192, 0.4406594 , 0.32315193],\n",
              "       [0.44998134, 0.61577531, 0.18547402, 0.68028949, 0.19820835],\n",
              "       [0.90594019, 0.35237492, 0.5928242 , 0.94402071, 0.30202147],\n",
              "       [0.43377621, 0.96156419, 0.214345  , 0.4051546 , 0.50978098],\n",
              "       [0.47476777, 0.31290687, 0.98254547, 0.85291097, 0.81210799],\n",
              "       [0.99135782, 0.96723664, 0.80323456, 0.40548829, 0.64401055],\n",
              "       [0.88711648, 0.46961051, 0.24736405, 0.17897467, 0.73903503]])"
            ]
          },
          "metadata": {
            "tags": []
          },
          "execution_count": 101
        }
      ]
    },
    {
      "cell_type": "code",
      "metadata": {
        "id": "ycC5nXwpCSXf",
        "colab_type": "code",
        "colab": {
          "base_uri": "https://localhost:8080/",
          "height": 34
        },
        "outputId": "cd8f9bf5-082c-4e10-a989-09326f131c5d"
      },
      "source": [
        "b = np.random.randint(3,size = 10)\n",
        "b"
      ],
      "execution_count": 102,
      "outputs": [
        {
          "output_type": "execute_result",
          "data": {
            "text/plain": [
              "array([2, 1, 2, 0, 0, 0, 1, 1, 1, 0])"
            ]
          },
          "metadata": {
            "tags": []
          },
          "execution_count": 102
        }
      ]
    },
    {
      "cell_type": "code",
      "metadata": {
        "id": "Rg6kEFhlDAZm",
        "colab_type": "code",
        "colab": {
          "base_uri": "https://localhost:8080/",
          "height": 34
        },
        "outputId": "810d636f-2a3e-4666-dd15-a57e8c4910e3"
      },
      "source": [
        "result = np.where(b == 2)\n",
        "result"
      ],
      "execution_count": 103,
      "outputs": [
        {
          "output_type": "execute_result",
          "data": {
            "text/plain": [
              "(array([0, 2]),)"
            ]
          },
          "metadata": {
            "tags": []
          },
          "execution_count": 103
        }
      ]
    },
    {
      "cell_type": "code",
      "metadata": {
        "id": "bOTSaCM_Fa1V",
        "colab_type": "code",
        "colab": {
          "base_uri": "https://localhost:8080/",
          "height": 51
        },
        "outputId": "d55fa2d0-9fe6-423a-e153-0b27546d2720"
      },
      "source": [
        "a[result]"
      ],
      "execution_count": 104,
      "outputs": [
        {
          "output_type": "execute_result",
          "data": {
            "text/plain": [
              "array([[0.46562597, 0.92090841, 0.61136459, 0.40928718, 0.01567885],\n",
              "       [0.30197237, 0.15183603, 0.63142739, 0.26703057, 0.41407603]])"
            ]
          },
          "metadata": {
            "tags": []
          },
          "execution_count": 104
        }
      ]
    },
    {
      "cell_type": "code",
      "metadata": {
        "id": "MoNE8Z3dFhvc",
        "colab_type": "code",
        "colab": {}
      },
      "source": [
        ""
      ],
      "execution_count": 0,
      "outputs": []
    }
  ]
}
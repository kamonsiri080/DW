{
  "nbformat": 4,
  "nbformat_minor": 0,
  "metadata": {
    "colab": {
      "name": "Lab8.ipynb",
      "provenance": [],
      "include_colab_link": true
    },
    "kernelspec": {
      "name": "python3",
      "display_name": "Python 3"
    }
  },
  "cells": [
    {
      "cell_type": "markdown",
      "metadata": {
        "id": "view-in-github",
        "colab_type": "text"
      },
      "source": [
        "<a href=\"https://colab.research.google.com/github/kamonsiri080/DW/blob/master/Lab8.ipynb\" target=\"_parent\"><img src=\"https://colab.research.google.com/assets/colab-badge.svg\" alt=\"Open In Colab\"/></a>"
      ]
    },
    {
      "cell_type": "markdown",
      "metadata": {
        "id": "FB4eJe3BiP6C",
        "colab_type": "text"
      },
      "source": [
        "# Hello Python"
      ]
    },
    {
      "cell_type": "code",
      "metadata": {
        "id": "zSQ7vpiHiie-",
        "colab_type": "code",
        "outputId": "d96bdd27-8490-4c21-e288-16f4569ab4e5",
        "colab": {
          "base_uri": "https://localhost:8080/",
          "height": 34
        }
      },
      "source": [
        "print(\"Hello World\")"
      ],
      "execution_count": 0,
      "outputs": [
        {
          "output_type": "stream",
          "text": [
            "Hello World\n"
          ],
          "name": "stdout"
        }
      ]
    },
    {
      "cell_type": "markdown",
      "metadata": {
        "id": "v2kMdDnQjLhH",
        "colab_type": "text"
      },
      "source": [
        "# Declare Variable\n",
        "How to declare vaariable in Python\n"
      ]
    },
    {
      "cell_type": "code",
      "metadata": {
        "id": "tLSmqNKejbzO",
        "colab_type": "code",
        "outputId": "3c6d51b5-f950-4e47-aedd-39bdfdc89c33",
        "colab": {
          "base_uri": "https://localhost:8080/",
          "height": 34
        }
      },
      "source": [
        "score = 100\n",
        "name = \"Kamonsiri\"\n",
        "print(\"Name is \" + name + \" score is \"+ str(score))\n",
        "\n"
      ],
      "execution_count": 0,
      "outputs": [
        {
          "output_type": "stream",
          "text": [
            "Name is Kamonsiri score is 100\n"
          ],
          "name": "stdout"
        }
      ]
    },
    {
      "cell_type": "code",
      "metadata": {
        "id": "5Lg9ooqpkEn7",
        "colab_type": "code",
        "outputId": "a01e0969-75aa-4434-dfb9-4842eb52f26d",
        "colab": {
          "base_uri": "https://localhost:8080/",
          "height": 34
        }
      },
      "source": [
        "a = 2\n",
        "b = 3\n",
        "c = a * b\n",
        "print(c)"
      ],
      "execution_count": 0,
      "outputs": [
        {
          "output_type": "stream",
          "text": [
            "6\n"
          ],
          "name": "stdout"
        }
      ]
    },
    {
      "cell_type": "markdown",
      "metadata": {
        "id": "-0vgx_jjm1kk",
        "colab_type": "text"
      },
      "source": [
        "# List\n",
        "\n",
        "How to use list PtThon "
      ]
    },
    {
      "cell_type": "code",
      "metadata": {
        "id": "5taaRln1mxBr",
        "colab_type": "code",
        "outputId": "3b72697b-94ab-4999-d75c-27b2f37e86b7",
        "colab": {
          "base_uri": "https://localhost:8080/",
          "height": 34
        }
      },
      "source": [
        "mylist = []\n",
        "mylist.append(\"Phasit\")\n",
        "mylist.append(200)\n",
        "mylist"
      ],
      "execution_count": 0,
      "outputs": [
        {
          "output_type": "execute_result",
          "data": {
            "text/plain": [
              "['Phasit', 200]"
            ]
          },
          "metadata": {
            "tags": []
          },
          "execution_count": 10
        }
      ]
    },
    {
      "cell_type": "markdown",
      "metadata": {
        "id": "ZJWmnMGWnpH7",
        "colab_type": "text"
      },
      "source": [
        "How to count data in list "
      ]
    },
    {
      "cell_type": "code",
      "metadata": {
        "id": "woGYmA_Sny8z",
        "colab_type": "code",
        "outputId": "0010f414-5e71-4596-ebec-6f0d4364ba5b",
        "colab": {
          "base_uri": "https://localhost:8080/",
          "height": 34
        }
      },
      "source": [
        "len(mylist)"
      ],
      "execution_count": 0,
      "outputs": [
        {
          "output_type": "execute_result",
          "data": {
            "text/plain": [
              "2"
            ]
          },
          "metadata": {
            "tags": []
          },
          "execution_count": 11
        }
      ]
    },
    {
      "cell_type": "code",
      "metadata": {
        "id": "wY5Weh5Bn6Hj",
        "colab_type": "code",
        "colab": {}
      },
      "source": [
        ""
      ],
      "execution_count": 0,
      "outputs": []
    },
    {
      "cell_type": "markdown",
      "metadata": {
        "id": "xy4GUe8xn8Y7",
        "colab_type": "text"
      },
      "source": [
        "#If-eles PyThon\n",
        "How to use if-eles in PyThon"
      ]
    },
    {
      "cell_type": "code",
      "metadata": {
        "id": "bAAuWyIDoHUC",
        "colab_type": "code",
        "outputId": "331f879b-8b11-4f34-c224-d39ddbb5ba5c",
        "colab": {
          "base_uri": "https://localhost:8080/",
          "height": 34
        }
      },
      "source": [
        "if mylist[1] > 100 :\n",
        "  print(\"Pass\")"
      ],
      "execution_count": 0,
      "outputs": [
        {
          "output_type": "stream",
          "text": [
            "Pass\n"
          ],
          "name": "stdout"
        }
      ]
    },
    {
      "cell_type": "code",
      "metadata": {
        "id": "cSBrmq6eoRzS",
        "colab_type": "code",
        "outputId": "55bdf9a4-db6f-4070-f606-389e366065c4",
        "colab": {
          "base_uri": "https://localhost:8080/",
          "height": 34
        }
      },
      "source": [
        "if mylist[1] > 100 :\n",
        "  name = mylist[0]\n",
        "  score = mylist[1]\n",
        "  print(name+\" \"+str(score))\n",
        "elif mylist[1] > 200 :\n",
        "  print(\"Very Pass\")\n",
        "else:\n",
        "  print(\"Super Pass\")"
      ],
      "execution_count": 0,
      "outputs": [
        {
          "output_type": "stream",
          "text": [
            "Phasit 200\n"
          ],
          "name": "stdout"
        }
      ]
    },
    {
      "cell_type": "code",
      "metadata": {
        "id": "nJ8Qh96apS_q",
        "colab_type": "code",
        "outputId": "bec84b14-0275-4d5e-ec41-d886a1727311",
        "colab": {
          "base_uri": "https://localhost:8080/",
          "height": 34
        }
      },
      "source": [
        "score = 76\n",
        "if score > 80 :\n",
        "  print(\"A\")\n",
        "elif score > 70 :\n",
        "  print(\"B\")\n",
        "elif score > 60 :\n",
        "  print(\"C\")\n",
        "elif score > 50 :\n",
        "  print(\"D\")\n",
        "else :\n",
        "  print(\"F\")"
      ],
      "execution_count": 0,
      "outputs": [
        {
          "output_type": "stream",
          "text": [
            "B\n"
          ],
          "name": "stdout"
        }
      ]
    },
    {
      "cell_type": "markdown",
      "metadata": {
        "id": "J8PcjOsiqmAS",
        "colab_type": "text"
      },
      "source": [
        ""
      ]
    },
    {
      "cell_type": "markdown",
      "metadata": {
        "id": "mBrf72oGqnfh",
        "colab_type": "text"
      },
      "source": [
        "# For Loop in Python\n",
        "How to use for loop"
      ]
    },
    {
      "cell_type": "code",
      "metadata": {
        "id": "FYnMsdLaqwlY",
        "colab_type": "code",
        "outputId": "2a6b1546-307c-41e8-bbc0-795109c1a0f5",
        "colab": {
          "base_uri": "https://localhost:8080/",
          "height": 204
        }
      },
      "source": [
        "summation = 0\n",
        "for i in range(0,10):\n",
        "  print(str(i))\n",
        "  summation = summation+1\n",
        "print(summation)\n",
        " "
      ],
      "execution_count": 0,
      "outputs": [
        {
          "output_type": "stream",
          "text": [
            "0\n",
            "1\n",
            "2\n",
            "3\n",
            "4\n",
            "5\n",
            "6\n",
            "7\n",
            "8\n",
            "9\n",
            "10\n"
          ],
          "name": "stdout"
        }
      ]
    },
    {
      "cell_type": "code",
      "metadata": {
        "id": "nL8N2CBerYzA",
        "colab_type": "code",
        "outputId": "0f003707-b470-4770-9c8c-4134c387750e",
        "colab": {
          "base_uri": "https://localhost:8080/",
          "height": 204
        }
      },
      "source": [
        "summation = []\n",
        "for i in range(0,10) :\n",
        "  summation.append(i)\n",
        "print (summation)\n",
        "  \n",
        "for i in summation :\n",
        "  print(str(i))"
      ],
      "execution_count": 0,
      "outputs": [
        {
          "output_type": "stream",
          "text": [
            "[0, 1, 2, 3, 4, 5, 6, 7, 8, 9]\n",
            "0\n",
            "1\n",
            "2\n",
            "3\n",
            "4\n",
            "5\n",
            "6\n",
            "7\n",
            "8\n",
            "9\n"
          ],
          "name": "stdout"
        }
      ]
    },
    {
      "cell_type": "markdown",
      "metadata": {
        "id": "UKV6160vsibp",
        "colab_type": "text"
      },
      "source": [
        "# For-Each Loop"
      ]
    },
    {
      "cell_type": "code",
      "metadata": {
        "id": "pgaLsdkUsP0t",
        "colab_type": "code",
        "outputId": "51b7d0f8-0ed3-4328-c516-df2b3f986116",
        "colab": {
          "base_uri": "https://localhost:8080/",
          "height": 187
        }
      },
      "source": [
        "for i in summation :\n",
        "    print(str(i))"
      ],
      "execution_count": 0,
      "outputs": [
        {
          "output_type": "stream",
          "text": [
            "0\n",
            "1\n",
            "2\n",
            "3\n",
            "4\n",
            "5\n",
            "6\n",
            "7\n",
            "8\n",
            "9\n"
          ],
          "name": "stdout"
        }
      ]
    },
    {
      "cell_type": "markdown",
      "metadata": {
        "id": "d3PivHbuvS-A",
        "colab_type": "text"
      },
      "source": [
        "# NumPy\n",
        "Library for matrix operation"
      ]
    },
    {
      "cell_type": "code",
      "metadata": {
        "id": "rrzCqbwus9p9",
        "colab_type": "code",
        "colab": {}
      },
      "source": [
        "import numpy as np"
      ],
      "execution_count": 0,
      "outputs": []
    },
    {
      "cell_type": "code",
      "metadata": {
        "id": "DOOizHYnvo56",
        "colab_type": "code",
        "outputId": "eb71f50f-e655-41ac-e1cd-cb210648a271",
        "colab": {
          "base_uri": "https://localhost:8080/",
          "height": 34
        }
      },
      "source": [
        "l = [1,2,3,4,5]\n",
        "np_array = np.array(1)\n",
        "type(np_array)"
      ],
      "execution_count": 0,
      "outputs": [
        {
          "output_type": "execute_result",
          "data": {
            "text/plain": [
              "numpy.ndarray"
            ]
          },
          "metadata": {
            "tags": []
          },
          "execution_count": 27
        }
      ]
    },
    {
      "cell_type": "code",
      "metadata": {
        "id": "R89io9kNxonL",
        "colab_type": "code",
        "colab": {}
      },
      "source": [
        ""
      ],
      "execution_count": 0,
      "outputs": []
    },
    {
      "cell_type": "markdown",
      "metadata": {
        "id": "zTHNwsrKxtXV",
        "colab_type": "text"
      },
      "source": [
        "Create Matrix\n"
      ]
    },
    {
      "cell_type": "code",
      "metadata": {
        "id": "fP_jF3bpxyQj",
        "colab_type": "code",
        "colab": {}
      },
      "source": [
        "np_matrix = np.array([[1,2],[3,4],[5,6]])"
      ],
      "execution_count": 0,
      "outputs": []
    },
    {
      "cell_type": "code",
      "metadata": {
        "id": "d2ISdavuyB6z",
        "colab_type": "code",
        "outputId": "2bc4f170-7a1b-4ef2-8131-cbb1c833119c",
        "colab": {
          "base_uri": "https://localhost:8080/",
          "height": 68
        }
      },
      "source": [
        "np_matrix"
      ],
      "execution_count": 0,
      "outputs": [
        {
          "output_type": "execute_result",
          "data": {
            "text/plain": [
              "array([[1, 2],\n",
              "       [3, 4],\n",
              "       [5, 6]])"
            ]
          },
          "metadata": {
            "tags": []
          },
          "execution_count": 30
        }
      ]
    },
    {
      "cell_type": "markdown",
      "metadata": {
        "id": "XUW-cI2cyIHs",
        "colab_type": "text"
      },
      "source": [
        "Check Matrix Size"
      ]
    },
    {
      "cell_type": "code",
      "metadata": {
        "id": "jD-GbW7vyGmr",
        "colab_type": "code",
        "outputId": "dd3398e2-ddb3-4c5e-9b47-5020864f1022",
        "colab": {
          "base_uri": "https://localhost:8080/",
          "height": 34
        }
      },
      "source": [
        "np.size(np_matrix,0)"
      ],
      "execution_count": 0,
      "outputs": [
        {
          "output_type": "execute_result",
          "data": {
            "text/plain": [
              "3"
            ]
          },
          "metadata": {
            "tags": []
          },
          "execution_count": 31
        }
      ]
    },
    {
      "cell_type": "code",
      "metadata": {
        "id": "scru7dj9yUyz",
        "colab_type": "code",
        "outputId": "537519e4-ffd9-46b5-f8cf-103714dee5ba",
        "colab": {
          "base_uri": "https://localhost:8080/",
          "height": 34
        }
      },
      "source": [
        "np.size(np_matrix,1)"
      ],
      "execution_count": 0,
      "outputs": [
        {
          "output_type": "execute_result",
          "data": {
            "text/plain": [
              "2"
            ]
          },
          "metadata": {
            "tags": []
          },
          "execution_count": 32
        }
      ]
    },
    {
      "cell_type": "markdown",
      "metadata": {
        "id": "87ZDVuByydAs",
        "colab_type": "text"
      },
      "source": [
        "Check Matrix Properties"
      ]
    },
    {
      "cell_type": "code",
      "metadata": {
        "id": "vkB05JWGya_L",
        "colab_type": "code",
        "outputId": "83f63e23-1bf2-4ada-e352-f6b2decf0401",
        "colab": {
          "base_uri": "https://localhost:8080/",
          "height": 34
        }
      },
      "source": [
        "np_matrix.shape"
      ],
      "execution_count": 0,
      "outputs": [
        {
          "output_type": "execute_result",
          "data": {
            "text/plain": [
              "(3, 2)"
            ]
          },
          "metadata": {
            "tags": []
          },
          "execution_count": 33
        }
      ]
    },
    {
      "cell_type": "code",
      "metadata": {
        "id": "w2tghLBnyrSS",
        "colab_type": "code",
        "outputId": "4c8ff059-04ef-4f9b-9dbe-9f55e312379f",
        "colab": {
          "base_uri": "https://localhost:8080/",
          "height": 34
        }
      },
      "source": [
        "np_matrix.ndim"
      ],
      "execution_count": 0,
      "outputs": [
        {
          "output_type": "execute_result",
          "data": {
            "text/plain": [
              "2"
            ]
          },
          "metadata": {
            "tags": []
          },
          "execution_count": 35
        }
      ]
    },
    {
      "cell_type": "code",
      "metadata": {
        "id": "LxkTR8QCyu2y",
        "colab_type": "code",
        "outputId": "49410943-b0de-4b9f-cd31-6175cf225dc5",
        "colab": {
          "base_uri": "https://localhost:8080/",
          "height": 34
        }
      },
      "source": [
        "np_matrix.size"
      ],
      "execution_count": 0,
      "outputs": [
        {
          "output_type": "execute_result",
          "data": {
            "text/plain": [
              "6"
            ]
          },
          "metadata": {
            "tags": []
          },
          "execution_count": 36
        }
      ]
    },
    {
      "cell_type": "markdown",
      "metadata": {
        "id": "XNBeakWTy8RR",
        "colab_type": "text"
      },
      "source": [
        "Create Matrix with data Type"
      ]
    },
    {
      "cell_type": "code",
      "metadata": {
        "id": "jwSosmOYy69a",
        "colab_type": "code",
        "colab": {}
      },
      "source": [
        "np_mix_matrix = np.array([['one',2],['three',4],['five',6]])"
      ],
      "execution_count": 0,
      "outputs": []
    },
    {
      "cell_type": "code",
      "metadata": {
        "id": "9AJ-tcyJzc-1",
        "colab_type": "code",
        "outputId": "be7bfa82-9ef9-4efd-f14e-0f332bd79c8c",
        "colab": {
          "base_uri": "https://localhost:8080/",
          "height": 68
        }
      },
      "source": [
        "np_mix_matrix"
      ],
      "execution_count": 0,
      "outputs": [
        {
          "output_type": "execute_result",
          "data": {
            "text/plain": [
              "array([['one', '2'],\n",
              "       ['three', '4'],\n",
              "       ['five', '6']], dtype='<U5')"
            ]
          },
          "metadata": {
            "tags": []
          },
          "execution_count": 39
        }
      ]
    },
    {
      "cell_type": "markdown",
      "metadata": {
        "id": "AcktgL6ozpYb",
        "colab_type": "text"
      },
      "source": [
        "Access matrix element"
      ]
    },
    {
      "cell_type": "code",
      "metadata": {
        "id": "IeQadunqznNB",
        "colab_type": "code",
        "outputId": "3f681bc7-9e52-4bed-c358-65e9a5684a7c",
        "colab": {
          "base_uri": "https://localhost:8080/",
          "height": 34
        }
      },
      "source": [
        "np_mix_matrix[0,1]"
      ],
      "execution_count": 0,
      "outputs": [
        {
          "output_type": "execute_result",
          "data": {
            "text/plain": [
              "'2'"
            ]
          },
          "metadata": {
            "tags": []
          },
          "execution_count": 40
        }
      ]
    },
    {
      "cell_type": "markdown",
      "metadata": {
        "id": "fKuTnwFWz_L7",
        "colab_type": "text"
      },
      "source": [
        "Access all column of matrix"
      ]
    },
    {
      "cell_type": "code",
      "metadata": {
        "id": "wEMjsQ5Mz-Fp",
        "colab_type": "code",
        "outputId": "d7a98f24-2294-4ed4-8427-445ed726b384",
        "colab": {
          "base_uri": "https://localhost:8080/",
          "height": 34
        }
      },
      "source": [
        "np_mix_matrix[:,0]"
      ],
      "execution_count": 0,
      "outputs": [
        {
          "output_type": "execute_result",
          "data": {
            "text/plain": [
              "array(['one', 'three', 'five'], dtype='<U5')"
            ]
          },
          "metadata": {
            "tags": []
          },
          "execution_count": 42
        }
      ]
    },
    {
      "cell_type": "markdown",
      "metadata": {
        "id": "QOLAj8jn0TEz",
        "colab_type": "text"
      },
      "source": [
        "Access all row of matrix"
      ]
    },
    {
      "cell_type": "code",
      "metadata": {
        "id": "d7u0kKiG0Oo5",
        "colab_type": "code",
        "outputId": "3703c7d0-aaa6-4662-b78e-7f17c44f71a9",
        "colab": {
          "base_uri": "https://localhost:8080/",
          "height": 34
        }
      },
      "source": [
        "np_mix_matrix[0,]"
      ],
      "execution_count": 0,
      "outputs": [
        {
          "output_type": "execute_result",
          "data": {
            "text/plain": [
              "array(['one', '2'], dtype='<U5')"
            ]
          },
          "metadata": {
            "tags": []
          },
          "execution_count": 43
        }
      ]
    },
    {
      "cell_type": "markdown",
      "metadata": {
        "id": "KZ5LWWcT0z6a",
        "colab_type": "text"
      },
      "source": [
        "Access element from row 0 to row 1"
      ]
    },
    {
      "cell_type": "code",
      "metadata": {
        "id": "-mCANqlY0yGo",
        "colab_type": "code",
        "outputId": "5ef36652-dcd3-4e8f-bd9c-a7e97215f63a",
        "colab": {
          "base_uri": "https://localhost:8080/",
          "height": 51
        }
      },
      "source": [
        "np_mix_matrix[0:2,]"
      ],
      "execution_count": 0,
      "outputs": [
        {
          "output_type": "execute_result",
          "data": {
            "text/plain": [
              "array([['one', '2'],\n",
              "       ['three', '4']], dtype='<U5')"
            ]
          },
          "metadata": {
            "tags": []
          },
          "execution_count": 44
        }
      ]
    },
    {
      "cell_type": "markdown",
      "metadata": {
        "id": "0HYbSet41Yn0",
        "colab_type": "text"
      },
      "source": [
        "Type casting ndarray object"
      ]
    },
    {
      "cell_type": "code",
      "metadata": {
        "id": "LA1mlpD91PBY",
        "colab_type": "code",
        "outputId": "ab985e2e-2ae0-4fff-f912-3b1c6255f7bb",
        "colab": {
          "base_uri": "https://localhost:8080/",
          "height": 34
        }
      },
      "source": [
        "np.array(np_mix_matrix[:,1], dtype = int)"
      ],
      "execution_count": 0,
      "outputs": [
        {
          "output_type": "execute_result",
          "data": {
            "text/plain": [
              "array([2, 4, 6])"
            ]
          },
          "metadata": {
            "tags": []
          },
          "execution_count": 46
        }
      ]
    },
    {
      "cell_type": "markdown",
      "metadata": {
        "id": "L7vAIx0A15cx",
        "colab_type": "text"
      },
      "source": [
        "Create matrix of zeros"
      ]
    },
    {
      "cell_type": "code",
      "metadata": {
        "id": "Tou9Qhk8134g",
        "colab_type": "code",
        "outputId": "3e55cb62-febf-4948-f2be-2351c24c73d6",
        "colab": {
          "base_uri": "https://localhost:8080/",
          "height": 51
        }
      },
      "source": [
        "np.zeros([2,3])"
      ],
      "execution_count": 0,
      "outputs": [
        {
          "output_type": "execute_result",
          "data": {
            "text/plain": [
              "array([[0., 0., 0.],\n",
              "       [0., 0., 0.]])"
            ]
          },
          "metadata": {
            "tags": []
          },
          "execution_count": 47
        }
      ]
    },
    {
      "cell_type": "markdown",
      "metadata": {
        "id": "ahbr05042GdR",
        "colab_type": "text"
      },
      "source": [
        "Create matrix of ones"
      ]
    },
    {
      "cell_type": "code",
      "metadata": {
        "id": "rYQKncrf2FNH",
        "colab_type": "code",
        "outputId": "dbb70213-1d56-4081-ba3d-08ea66570b7d",
        "colab": {
          "base_uri": "https://localhost:8080/",
          "height": 102
        }
      },
      "source": [
        "np.ones([5,5])"
      ],
      "execution_count": 0,
      "outputs": [
        {
          "output_type": "execute_result",
          "data": {
            "text/plain": [
              "array([[1., 1., 1., 1., 1.],\n",
              "       [1., 1., 1., 1., 1.],\n",
              "       [1., 1., 1., 1., 1.],\n",
              "       [1., 1., 1., 1., 1.],\n",
              "       [1., 1., 1., 1., 1.]])"
            ]
          },
          "metadata": {
            "tags": []
          },
          "execution_count": 48
        }
      ]
    },
    {
      "cell_type": "markdown",
      "metadata": {
        "id": "QDvC1Sz02Rfi",
        "colab_type": "text"
      },
      "source": [
        "Create Eye Matrix"
      ]
    },
    {
      "cell_type": "code",
      "metadata": {
        "id": "PMtsSJIC2Ppw",
        "colab_type": "code",
        "outputId": "3330c8c1-93e6-4a14-8146-2b81a5b67913",
        "colab": {
          "base_uri": "https://localhost:8080/",
          "height": 102
        }
      },
      "source": [
        "np.eye(5)"
      ],
      "execution_count": 0,
      "outputs": [
        {
          "output_type": "execute_result",
          "data": {
            "text/plain": [
              "array([[1., 0., 0., 0., 0.],\n",
              "       [0., 1., 0., 0., 0.],\n",
              "       [0., 0., 1., 0., 0.],\n",
              "       [0., 0., 0., 1., 0.],\n",
              "       [0., 0., 0., 0., 1.]])"
            ]
          },
          "metadata": {
            "tags": []
          },
          "execution_count": 49
        }
      ]
    },
    {
      "cell_type": "markdown",
      "metadata": {
        "id": "ZvB1u44H2bmo",
        "colab_type": "text"
      },
      "source": [
        "Create Empty Matrix"
      ]
    },
    {
      "cell_type": "code",
      "metadata": {
        "id": "3rk7czsW2aQo",
        "colab_type": "code",
        "outputId": "9b999e6a-aaf7-40d7-fc2a-4fbe6c99b360",
        "colab": {
          "base_uri": "https://localhost:8080/",
          "height": 221
        }
      },
      "source": [
        "np.empty([6,6])"
      ],
      "execution_count": 0,
      "outputs": [
        {
          "output_type": "execute_result",
          "data": {
            "text/plain": [
              "array([[2.21050503e-316, 1.14129164e-321, 0.00000000e+000,\n",
              "        0.00000000e+000, 0.00000000e+000, 1.16095484e-028],\n",
              "       [9.75020152e+199, 8.53481960e+136, 2.45342609e+198,\n",
              "        4.34577426e-114, 1.89891185e+136, 2.06862681e+161],\n",
              "       [4.06874372e+233, 4.07189533e+223, 5.27164030e+246,\n",
              "        9.08367203e+223, 2.58004446e+185, 1.81450396e-152],\n",
              "       [4.82406556e+228, 1.25184843e+232, 2.18175683e+243,\n",
              "        3.97062309e+246, 2.77621464e+184, 1.47763669e+248],\n",
              "       [1.78879622e+161, 5.18775165e+141, 3.51022257e+151,\n",
              "        1.30424409e-142, 1.70546600e+256, 1.75718683e+243],\n",
              "       [9.95923263e-143, 1.91077948e+214, 7.34295013e+223,\n",
              "        2.61635962e-306, 0.00000000e+000, 0.00000000e+000]])"
            ]
          },
          "metadata": {
            "tags": []
          },
          "execution_count": 52
        }
      ]
    },
    {
      "cell_type": "markdown",
      "metadata": {
        "id": "nGEilI_z3SHi",
        "colab_type": "text"
      },
      "source": [
        "Random matrix of size = (5,5)"
      ]
    },
    {
      "cell_type": "code",
      "metadata": {
        "id": "0T7LJ1GO3EAH",
        "colab_type": "code",
        "outputId": "f8c09e28-38fa-4cb4-f7fc-fa090e2c8744",
        "colab": {
          "base_uri": "https://localhost:8080/",
          "height": 102
        }
      },
      "source": [
        "np.random.rand(5,5)"
      ],
      "execution_count": 0,
      "outputs": [
        {
          "output_type": "execute_result",
          "data": {
            "text/plain": [
              "array([[0.43087092, 0.76774722, 0.36150154, 0.03300854, 0.56947724],\n",
              "       [0.15863899, 0.38407763, 0.68771835, 0.71438101, 0.57815335],\n",
              "       [0.75439494, 0.51163644, 0.22848434, 0.46269356, 0.23573753],\n",
              "       [0.64239826, 0.72738695, 0.04345778, 0.85206481, 0.11898171],\n",
              "       [0.6401184 , 0.48580469, 0.13514204, 0.54921412, 0.24492738]])"
            ]
          },
          "metadata": {
            "tags": []
          },
          "execution_count": 53
        }
      ]
    },
    {
      "cell_type": "markdown",
      "metadata": {
        "id": "MOo_z01A3pCp",
        "colab_type": "text"
      },
      "source": [
        "Random matrix of size = 3,3 having value between 0 to 4"
      ]
    },
    {
      "cell_type": "code",
      "metadata": {
        "id": "8SD0pwrL3mqG",
        "colab_type": "code",
        "outputId": "bfc69bd8-40f7-4662-d49a-6890d6053a33",
        "colab": {
          "base_uri": "https://localhost:8080/",
          "height": 68
        }
      },
      "source": [
        "np.random.randint(5,size = (3,3))"
      ],
      "execution_count": 0,
      "outputs": [
        {
          "output_type": "execute_result",
          "data": {
            "text/plain": [
              "array([[4, 2, 0],\n",
              "       [1, 2, 4],\n",
              "       [0, 1, 0]])"
            ]
          },
          "metadata": {
            "tags": []
          },
          "execution_count": 54
        }
      ]
    },
    {
      "cell_type": "markdown",
      "metadata": {
        "id": "goJPEFzP4CEh",
        "colab_type": "text"
      },
      "source": [
        "Uniform Random distribution vs. Normal distribution"
      ]
    },
    {
      "cell_type": "code",
      "metadata": {
        "id": "rsPO-4-O39-2",
        "colab_type": "code",
        "outputId": "d6030739-eb78-42af-e766-db190ed2a5aa",
        "colab": {
          "base_uri": "https://localhost:8080/",
          "height": 214
        }
      },
      "source": [
        "import matplotlib.pyplot as plt\n",
        "fig, axes = plt.subplots(1,2,figsize=(8,3))\n",
        "axes[0].hist(np.random.rand(1000))\n",
        "axes[1].hist(np.random.randn(1000))\n",
        "plt.show()"
      ],
      "execution_count": 0,
      "outputs": [
        {
          "output_type": "display_data",
          "data": {
            "image/png": "[encoded data removed]",
            "text/plain": [
              "<Figure size 576x216 with 2 Axes>"
            ]
          },
          "metadata": {
            "tags": []
          }
        }
      ]
    },
    {
      "cell_type": "markdown",
      "metadata": {
        "id": "dok8Yxio45NI",
        "colab_type": "text"
      },
      "source": [
        "Randomly choose 3 number range from 0 to 4 "
      ]
    },
    {
      "cell_type": "code",
      "metadata": {
        "id": "YUAQTS5Y42v9",
        "colab_type": "code",
        "outputId": "e818f798-9a41-4c3e-d24c-06194cc83b72",
        "colab": {
          "base_uri": "https://localhost:8080/",
          "height": 34
        }
      },
      "source": [
        "np.random.choice(5,3,replace = False)"
      ],
      "execution_count": 0,
      "outputs": [
        {
          "output_type": "execute_result",
          "data": {
            "text/plain": [
              "array([1, 3, 4])"
            ]
          },
          "metadata": {
            "tags": []
          },
          "execution_count": 58
        }
      ]
    },
    {
      "cell_type": "markdown",
      "metadata": {
        "id": "a-imS2HJ5ZwH",
        "colab_type": "text"
      },
      "source": [
        "Randomly choose 3 row from 0 to 4 into new matrix"
      ]
    },
    {
      "cell_type": "code",
      "metadata": {
        "id": "JvyFior85QUl",
        "colab_type": "code",
        "outputId": "13774c79-3593-496a-ccb1-36918f8575c6",
        "colab": {
          "base_uri": "https://localhost:8080/",
          "height": 68
        }
      },
      "source": [
        "np_matrix = np.random.rand(5,5)\n",
        "idx_choose = np.random.choice(5,3,replace = False)\n",
        "np_matrix_choose = np_matrix[idx_choose,:]\n",
        "np_matrix_choose"
      ],
      "execution_count": 0,
      "outputs": [
        {
          "output_type": "execute_result",
          "data": {
            "text/plain": [
              "array([[0.7582232 , 0.04373302, 0.02854103, 0.61594908, 0.73557718],\n",
              "       [0.48067468, 0.57434553, 0.58301619, 0.23216333, 0.9947422 ],\n",
              "       [0.63206674, 0.13448798, 0.61912922, 0.11803909, 0.73572338]])"
            ]
          },
          "metadata": {
            "tags": []
          },
          "execution_count": 59
        }
      ]
    },
    {
      "cell_type": "markdown",
      "metadata": {
        "id": "Wv7GWKxg6J06",
        "colab_type": "text"
      },
      "source": [
        "# EX 1\n"
      ]
    },
    {
      "cell_type": "code",
      "metadata": {
        "id": "JhClYh4A6Hx0",
        "colab_type": "code",
        "outputId": "f2c0b260-240f-41c1-d957-73b5b567a840",
        "colab": {
          "base_uri": "https://localhost:8080/",
          "height": 187
        }
      },
      "source": [
        "a = np.random.rand (10,5)\n",
        "a\n"
      ],
      "execution_count": 0,
      "outputs": [
        {
          "output_type": "execute_result",
          "data": {
            "text/plain": [
              "array([[0.78559695, 0.35309421, 0.30468015, 0.66847602, 0.89551077],\n",
              "       [0.32599416, 0.03171366, 0.75357119, 0.57195557, 0.86868627],\n",
              "       [0.38911507, 0.72800684, 0.99405906, 0.40873029, 0.38006333],\n",
              "       [0.57571112, 0.55972055, 0.16472556, 0.48984418, 0.3726645 ],\n",
              "       [0.46870613, 0.77033228, 0.7870173 , 0.65027718, 0.02135812],\n",
              "       [0.71484726, 0.61578645, 0.65666733, 0.92330579, 0.75804767],\n",
              "       [0.73355047, 0.98397402, 0.37879693, 0.44925462, 0.27239628],\n",
              "       [0.31846784, 0.51427931, 0.62204666, 0.13415481, 0.17121226],\n",
              "       [0.64219551, 0.79727294, 0.2435219 , 0.64530257, 0.09623894],\n",
              "       [0.93614773, 0.45619097, 0.72365576, 0.31648682, 0.08434773]])"
            ]
          },
          "metadata": {
            "tags": []
          },
          "execution_count": 81
        }
      ]
    },
    {
      "cell_type": "code",
      "metadata": {
        "id": "ddyjjadA9g0D",
        "colab_type": "code",
        "outputId": "36e70e2b-434a-4448-afbd-f994e81ef455",
        "colab": {
          "base_uri": "https://localhost:8080/",
          "height": 34
        }
      },
      "source": [
        "b = np.random.randint(2,size = 10)\n",
        "b"
      ],
      "execution_count": 0,
      "outputs": [
        {
          "output_type": "execute_result",
          "data": {
            "text/plain": [
              "array([1, 1, 1, 1, 1, 1, 0, 0, 1, 0])"
            ]
          },
          "metadata": {
            "tags": []
          },
          "execution_count": 83
        }
      ]
    },
    {
      "cell_type": "code",
      "metadata": {
        "id": "kTb_RCm--l_5",
        "colab_type": "code",
        "outputId": "82b54e8f-6412-4529-824b-1548c57e142a",
        "colab": {
          "base_uri": "https://localhost:8080/",
          "height": 187
        }
      },
      "source": [
        "a[:,4] = b \n",
        "a"
      ],
      "execution_count": 0,
      "outputs": [
        {
          "output_type": "execute_result",
          "data": {
            "text/plain": [
              "array([[0.78559695, 0.35309421, 0.30468015, 0.66847602, 1.        ],\n",
              "       [0.32599416, 0.03171366, 0.75357119, 0.57195557, 1.        ],\n",
              "       [0.38911507, 0.72800684, 0.99405906, 0.40873029, 1.        ],\n",
              "       [0.57571112, 0.55972055, 0.16472556, 0.48984418, 1.        ],\n",
              "       [0.46870613, 0.77033228, 0.7870173 , 0.65027718, 1.        ],\n",
              "       [0.71484726, 0.61578645, 0.65666733, 0.92330579, 1.        ],\n",
              "       [0.73355047, 0.98397402, 0.37879693, 0.44925462, 0.        ],\n",
              "       [0.31846784, 0.51427931, 0.62204666, 0.13415481, 0.        ],\n",
              "       [0.64219551, 0.79727294, 0.2435219 , 0.64530257, 1.        ],\n",
              "       [0.93614773, 0.45619097, 0.72365576, 0.31648682, 0.        ]])"
            ]
          },
          "metadata": {
            "tags": []
          },
          "execution_count": 84
        }
      ]
    },
    {
      "cell_type": "markdown",
      "metadata": {
        "id": "rNQC3DmJAPFU",
        "colab_type": "text"
      },
      "source": [
        "Create maritx = np.random.randint(11,size = (5,5))"
      ]
    },
    {
      "cell_type": "code",
      "metadata": {
        "id": "e1Hv8QSA_f4v",
        "colab_type": "code",
        "outputId": "ce363101-0729-479d-e13f-3c4eb9677418",
        "colab": {
          "base_uri": "https://localhost:8080/",
          "height": 102
        }
      },
      "source": [
        "np_matrix = np.random.randint(3,size = (5,5))\n",
        "np_matrix"
      ],
      "execution_count": 0,
      "outputs": [
        {
          "output_type": "execute_result",
          "data": {
            "text/plain": [
              "array([[2, 2, 1, 0, 0],\n",
              "       [2, 2, 0, 0, 0],\n",
              "       [0, 1, 0, 1, 0],\n",
              "       [1, 0, 1, 0, 2],\n",
              "       [0, 1, 1, 0, 2]])"
            ]
          },
          "metadata": {
            "tags": []
          },
          "execution_count": 85
        }
      ]
    },
    {
      "cell_type": "markdown",
      "metadata": {
        "id": "TMzqyY2qAyMh",
        "colab_type": "text"
      },
      "source": [
        "Fine index of 2 from matrix "
      ]
    },
    {
      "cell_type": "code",
      "metadata": {
        "id": "EePInERDAxRg",
        "colab_type": "code",
        "outputId": "6f3b98e1-04f9-4508-b75d-f569d1ac3286",
        "colab": {
          "base_uri": "https://localhost:8080/",
          "height": 34
        }
      },
      "source": [
        "result = np.where(np_matrix == 2)\n",
        "result"
      ],
      "execution_count": 0,
      "outputs": [
        {
          "output_type": "execute_result",
          "data": {
            "text/plain": [
              "(array([0, 0, 1, 1, 3, 4]), array([0, 1, 0, 1, 4, 4]))"
            ]
          },
          "metadata": {
            "tags": []
          },
          "execution_count": 86
        }
      ]
    },
    {
      "cell_type": "markdown",
      "metadata": {
        "id": "j7WkiJpHBpvy",
        "colab_type": "text"
      },
      "source": [
        "Another way "
      ]
    },
    {
      "cell_type": "code",
      "metadata": {
        "id": "Ave1FQ-tBXvv",
        "colab_type": "code",
        "outputId": "3a0dfc93-9bb4-47f6-c5a4-58aec7f9ddb7",
        "colab": {
          "base_uri": "https://localhost:8080/",
          "height": 102
        }
      },
      "source": [
        "result = (np_matrix == 2)\n",
        "result"
      ],
      "execution_count": 0,
      "outputs": [
        {
          "output_type": "execute_result",
          "data": {
            "text/plain": [
              "array([[ True,  True, False, False, False],\n",
              "       [ True,  True, False, False, False],\n",
              "       [False, False, False, False, False],\n",
              "       [False, False, False, False,  True],\n",
              "       [False, False, False, False,  True]])"
            ]
          },
          "metadata": {
            "tags": []
          },
          "execution_count": 87
        }
      ]
    },
    {
      "cell_type": "markdown",
      "metadata": {
        "id": "sr8gAvqNB3IM",
        "colab_type": "text"
      },
      "source": [
        "Use to replace values"
      ]
    },
    {
      "cell_type": "code",
      "metadata": {
        "id": "clEovAV0B1G_",
        "colab_type": "code",
        "outputId": "a37772a7-cfbc-4557-ffb5-447ada251675",
        "colab": {
          "base_uri": "https://localhost:8080/",
          "height": 102
        }
      },
      "source": [
        "np_matrix[result]=99\n",
        "np_matrix"
      ],
      "execution_count": 0,
      "outputs": [
        {
          "output_type": "execute_result",
          "data": {
            "text/plain": [
              "array([[99, 99,  1,  0,  0],\n",
              "       [99, 99,  0,  0,  0],\n",
              "       [ 0,  1,  0,  1,  0],\n",
              "       [ 1,  0,  1,  0, 99],\n",
              "       [ 0,  1,  1,  0, 99]])"
            ]
          },
          "metadata": {
            "tags": []
          },
          "execution_count": 89
        }
      ]
    },
    {
      "cell_type": "markdown",
      "metadata": {
        "id": "nP_qFMM_NNXI",
        "colab_type": "text"
      },
      "source": [
        ""
      ]
    },
    {
      "cell_type": "markdown",
      "metadata": {
        "id": "JdazmPRdCGi8",
        "colab_type": "text"
      },
      "source": [
        "#Ex 2"
      ]
    },
    {
      "cell_type": "code",
      "metadata": {
        "id": "3kilGaWHCCCv",
        "colab_type": "code",
        "outputId": "97382bb2-b8b5-41d9-bb69-c2ff350ecb94",
        "colab": {
          "base_uri": "https://localhost:8080/",
          "height": 187
        }
      },
      "source": [
        "a = np.random.rand (10,5)\n",
        "a"
      ],
      "execution_count": 0,
      "outputs": [
        {
          "output_type": "execute_result",
          "data": {
            "text/plain": [
              "array([[0.46562597, 0.92090841, 0.61136459, 0.40928718, 0.01567885],\n",
              "       [0.24295966, 0.64591861, 0.69238472, 0.63739621, 0.96161143],\n",
              "       [0.30197237, 0.15183603, 0.63142739, 0.26703057, 0.41407603],\n",
              "       [0.73012501, 0.97694198, 0.92400192, 0.4406594 , 0.32315193],\n",
              "       [0.44998134, 0.61577531, 0.18547402, 0.68028949, 0.19820835],\n",
              "       [0.90594019, 0.35237492, 0.5928242 , 0.94402071, 0.30202147],\n",
              "       [0.43377621, 0.96156419, 0.214345  , 0.4051546 , 0.50978098],\n",
              "       [0.47476777, 0.31290687, 0.98254547, 0.85291097, 0.81210799],\n",
              "       [0.99135782, 0.96723664, 0.80323456, 0.40548829, 0.64401055],\n",
              "       [0.88711648, 0.46961051, 0.24736405, 0.17897467, 0.73903503]])"
            ]
          },
          "metadata": {
            "tags": []
          },
          "execution_count": 101
        }
      ]
    },
    {
      "cell_type": "code",
      "metadata": {
        "id": "ycC5nXwpCSXf",
        "colab_type": "code",
        "outputId": "cd8f9bf5-082c-4e10-a989-09326f131c5d",
        "colab": {
          "base_uri": "https://localhost:8080/",
          "height": 34
        }
      },
      "source": [
        "b = np.random.randint(3,size = 10)\n",
        "b"
      ],
      "execution_count": 0,
      "outputs": [
        {
          "output_type": "execute_result",
          "data": {
            "text/plain": [
              "array([2, 1, 2, 0, 0, 0, 1, 1, 1, 0])"
            ]
          },
          "metadata": {
            "tags": []
          },
          "execution_count": 102
        }
      ]
    },
    {
      "cell_type": "code",
      "metadata": {
        "id": "Rg6kEFhlDAZm",
        "colab_type": "code",
        "outputId": "810d636f-2a3e-4666-dd15-a57e8c4910e3",
        "colab": {
          "base_uri": "https://localhost:8080/",
          "height": 34
        }
      },
      "source": [
        "result = np.where(b == 2)\n",
        "result"
      ],
      "execution_count": 0,
      "outputs": [
        {
          "output_type": "execute_result",
          "data": {
            "text/plain": [
              "(array([0, 2]),)"
            ]
          },
          "metadata": {
            "tags": []
          },
          "execution_count": 103
        }
      ]
    },
    {
      "cell_type": "code",
      "metadata": {
        "id": "bOTSaCM_Fa1V",
        "colab_type": "code",
        "outputId": "d55fa2d0-9fe6-423a-e153-0b27546d2720",
        "colab": {
          "base_uri": "https://localhost:8080/",
          "height": 51
        }
      },
      "source": [
        "a[result]"
      ],
      "execution_count": 0,
      "outputs": [
        {
          "output_type": "execute_result",
          "data": {
            "text/plain": [
              "array([[0.46562597, 0.92090841, 0.61136459, 0.40928718, 0.01567885],\n",
              "       [0.30197237, 0.15183603, 0.63142739, 0.26703057, 0.41407603]])"
            ]
          },
          "metadata": {
            "tags": []
          },
          "execution_count": 104
        }
      ]
    },
    {
      "cell_type": "code",
      "metadata": {
        "id": "Gi3APnofN0n8",
        "colab_type": "code",
        "colab": {}
      },
      "source": [
        "import numpy as np"
      ],
      "execution_count": 0,
      "outputs": []
    },
    {
      "cell_type": "markdown",
      "metadata": {
        "id": "zdLthnQXjagC",
        "colab_type": "text"
      },
      "source": [
        "#Min,Max"
      ]
    },
    {
      "cell_type": "markdown",
      "metadata": {
        "id": "nhHMfdy_NSDv",
        "colab_type": "text"
      },
      "source": [
        "Find min,max,mean,median"
      ]
    },
    {
      "cell_type": "code",
      "metadata": {
        "id": "c62i7fjBPqU6",
        "colab_type": "code",
        "outputId": "4c9248ad-b65a-4bb3-9ebc-f347e7bc2b4e",
        "colab": {
          "base_uri": "https://localhost:8080/",
          "height": 1000
        }
      },
      "source": [
        "pip help install"
      ],
      "execution_count": 0,
      "outputs": [
        {
          "output_type": "stream",
          "text": [
            "\n",
            "Usage:   \n",
            "  pip3 install [options] <requirement specifier> [package-index-options] ...\n",
            "  pip3 install [options] -r <requirements file> [package-index-options] ...\n",
            "  pip3 install [options] [-e] <vcs project url> ...\n",
            "  pip3 install [options] [-e] <local project path> ...\n",
            "  pip3 install [options] <archive url/path> ...\n",
            "\n",
            "Description:\n",
            "  Install packages from:\n",
            "  \n",
            "  - PyPI (and other indexes) using requirement specifiers.\n",
            "  - VCS project urls.\n",
            "  - Local project directories.\n",
            "  - Local or remote source archives.\n",
            "  \n",
            "  pip also supports installing from \"requirements files,\" which provide\n",
            "  an easy way to specify a whole environment to be installed.\n",
            "\n",
            "Install Options:\n",
            "  -r, --requirement <file>\n",
            "  Install\n",
            "  from the\n",
            "  given requi\n",
            "  rements\n",
            "  file. This\n",
            "  option can\n",
            "  be used\n",
            "  multiple\n",
            "  times.\n",
            "  -c, --constraint <file>\n",
            "  Constrain\n",
            "  versions\n",
            "  using the\n",
            "  given\n",
            "  constraints\n",
            "  file. This\n",
            "  option can\n",
            "  be used\n",
            "  multiple\n",
            "  times.\n",
            "  --no-deps\n",
            "  Don't\n",
            "  install\n",
            "  package dep\n",
            "  endencies.\n",
            "  --pre\n",
            "  Include\n",
            "  pre-release\n",
            "  and\n",
            "  development\n",
            "  versions.\n",
            "  By default,\n",
            "  pip only\n",
            "  finds\n",
            "  stable\n",
            "  versions.\n",
            "  -e, --editable <path/url>\n",
            "  Install a\n",
            "  project in\n",
            "  editable\n",
            "  mode (i.e.\n",
            "  setuptools\n",
            "  \"develop\n",
            "  mode\") from\n",
            "  a local\n",
            "  project\n",
            "  path or a\n",
            "  VCS url.\n",
            "  -t, --target <dir>\n",
            "  Install\n",
            "  packages\n",
            "  into <dir>.\n",
            "  By default\n",
            "  this will\n",
            "  not replace\n",
            "  existing fi\n",
            "  les/folders\n",
            "  in <dir>.\n",
            "  Use\n",
            "  --upgrade\n",
            "  to replace\n",
            "  existing\n",
            "  packages in\n",
            "  <dir> with\n",
            "  new\n",
            "  versions.\n",
            "  --platform <platform>\n",
            "  Only use\n",
            "  wheels\n",
            "  compatible\n",
            "  with\n",
            "  <platform>.\n",
            "  Defaults to\n",
            "  the\n",
            "  platform of\n",
            "  the running\n",
            "  system.\n",
            "  --python-version <python_version>\n",
            "  The Python\n",
            "  interpreter\n",
            "  version to\n",
            "  use for\n",
            "  wheel and\n",
            "  \"Requires-\n",
            "  Python\" com\n",
            "  patibility\n",
            "  checks.\n",
            "  Defaults to\n",
            "  a version\n",
            "  derived\n",
            "  from the\n",
            "  running int\n",
            "  erpreter.\n",
            "  The version\n",
            "  can be\n",
            "  specified\n",
            "  using up to\n",
            "  three dot-\n",
            "  separated\n",
            "  integers\n",
            "  (e.g. \"3\"\n",
            "  for 3.0.0,\n",
            "  \"3.7\" for\n",
            "  3.7.0, or\n",
            "  \"3.7.3\"). A\n",
            "  major-minor\n",
            "  version can\n",
            "  also be\n",
            "  given as a\n",
            "  string\n",
            "  without\n",
            "  dots (e.g.\n",
            "  \"37\" for\n",
            "  3.7.0).\n",
            "  --implementation <implementation>\n",
            "  Only use\n",
            "  wheels\n",
            "  compatible\n",
            "  with Python\n",
            "  implementat\n",
            "  ion <implem\n",
            "  entation>,\n",
            "  e.g. 'pp',\n",
            "  'jy', 'cp',\n",
            "  or 'ip'. If\n",
            "  not\n",
            "  specified,\n",
            "  then the\n",
            "  current\n",
            "  interpreter\n",
            "  implementat\n",
            "  ion is\n",
            "  used.  Use\n",
            "  'py' to\n",
            "  force imple\n",
            "  mentation-\n",
            "  agnostic\n",
            "  wheels.\n",
            "  --abi <abi>\n",
            "  Only use\n",
            "  wheels\n",
            "  compatible\n",
            "  with Python\n",
            "  abi <abi>,\n",
            "  e.g.\n",
            "  'pypy_41'.\n",
            "  If not\n",
            "  specified,\n",
            "  then the\n",
            "  current\n",
            "  interpreter\n",
            "  abi tag is\n",
            "  used.\n",
            "  Generally\n",
            "  you will\n",
            "  need to\n",
            "  specify --i\n",
            "  mplementati\n",
            "  on,\n",
            "  --platform,\n",
            "  and\n",
            "  --python-\n",
            "  version\n",
            "  when using\n",
            "  this\n",
            "  option.\n",
            "  --user\n",
            "  Install to\n",
            "  the Python\n",
            "  user\n",
            "  install\n",
            "  directory\n",
            "  for your\n",
            "  platform.\n",
            "  Typically\n",
            "  ~/.local/,\n",
            "  or %APPDATA\n",
            "  %\\Python on\n",
            "  Windows.\n",
            "  (See the\n",
            "  Python docu\n",
            "  mentation\n",
            "  for site.US\n",
            "  ER_BASE for\n",
            "  full\n",
            "  details.)\n",
            "  --root <dir>\n",
            "  Install\n",
            "  everything\n",
            "  relative to\n",
            "  this\n",
            "  alternate\n",
            "  root\n",
            "  directory.\n",
            "  --prefix <dir>\n",
            "  Installatio\n",
            "  n prefix\n",
            "  where lib,\n",
            "  bin and\n",
            "  other top-\n",
            "  level\n",
            "  folders are\n",
            "  placed\n",
            "  -b, --build <dir>\n",
            "  Directory\n",
            "  to unpack\n",
            "  packages\n",
            "  into and\n",
            "  build in.\n",
            "  Note that\n",
            "  an initial\n",
            "  build still\n",
            "  takes place\n",
            "  in a\n",
            "  temporary\n",
            "  directory.\n",
            "  The\n",
            "  location of\n",
            "  temporary\n",
            "  directories\n",
            "  can be\n",
            "  controlled\n",
            "  by setting\n",
            "  the TMPDIR\n",
            "  environment\n",
            "  variable\n",
            "  (TEMP on\n",
            "  Windows) ap\n",
            "  propriately\n",
            "  . When\n",
            "  passed,\n",
            "  build\n",
            "  directories\n",
            "  are not\n",
            "  cleaned in\n",
            "  case of\n",
            "  failures.\n",
            "  --src <dir>\n",
            "  Directory\n",
            "  to check\n",
            "  out\n",
            "  editable\n",
            "  projects\n",
            "  into. The\n",
            "  default in\n",
            "  a\n",
            "  virtualenv\n",
            "  is \"<venv\n",
            "  path>/src\".\n",
            "  The default\n",
            "  for global\n",
            "  installs is\n",
            "  \"<current\n",
            "  dir>/src\".\n",
            "  -U, --upgrade\n",
            "  Upgrade all\n",
            "  specified\n",
            "  packages to\n",
            "  the newest\n",
            "  available\n",
            "  version.\n",
            "  The\n",
            "  handling of\n",
            "  dependencie\n",
            "  s depends\n",
            "  on the\n",
            "  upgrade-\n",
            "  strategy\n",
            "  used.\n",
            "  --upgrade-strategy <upgrade_strategy>\n",
            "  Determines\n",
            "  how\n",
            "  dependency\n",
            "  upgrading\n",
            "  should be\n",
            "  handled\n",
            "  [default:\n",
            "  only-if-\n",
            "  needed].\n",
            "  \"eager\" - d\n",
            "  ependencies\n",
            "  are\n",
            "  upgraded\n",
            "  regardless\n",
            "  of whether\n",
            "  the\n",
            "  currently\n",
            "  installed\n",
            "  version\n",
            "  satisfies\n",
            "  the require\n",
            "  ments of\n",
            "  the\n",
            "  upgraded\n",
            "  package(s).\n",
            "  \"only-if-\n",
            "  needed\" -\n",
            "  are\n",
            "  upgraded\n",
            "  only when\n",
            "  they do not\n",
            "  satisfy the\n",
            "  requirement\n",
            "  s of the\n",
            "  upgraded\n",
            "  package(s).\n",
            "  --force-reinstall\n",
            "  Reinstall\n",
            "  all\n",
            "  packages\n",
            "  even if\n",
            "  they are\n",
            "  already up-\n",
            "  to-date.\n",
            "  -I, --ignore-installed\n",
            "  Ignore the\n",
            "  installed\n",
            "  packages (r\n",
            "  einstalling\n",
            "  instead).\n",
            "  --ignore-requires-python\n",
            "  Ignore the\n",
            "  Requires-\n",
            "  Python info\n",
            "  rmation.\n",
            "  --no-build-isolation\n",
            "  Disable\n",
            "  isolation\n",
            "  when\n",
            "  building a\n",
            "  modern\n",
            "  source dist\n",
            "  ribution.\n",
            "  Build depen\n",
            "  dencies\n",
            "  specified\n",
            "  by PEP 518\n",
            "  must be\n",
            "  already\n",
            "  installed\n",
            "  if this\n",
            "  option is\n",
            "  used.\n",
            "  --use-pep517\n",
            "  Use PEP 517\n",
            "  for\n",
            "  building\n",
            "  source dist\n",
            "  ributions\n",
            "  (use --no-\n",
            "  use-pep517\n",
            "  to force\n",
            "  legacy\n",
            "  behaviour).\n",
            "  --install-option <options>\n",
            "  Extra\n",
            "  arguments\n",
            "  to be\n",
            "  supplied to\n",
            "  the\n",
            "  setup.py\n",
            "  install\n",
            "  command\n",
            "  (use like\n",
            "  --install-\n",
            "  option=\"--\n",
            "  install-scr\n",
            "  ipts=/usr/l\n",
            "  ocal/bin\").\n",
            "  Use\n",
            "  multiple\n",
            "  --install-\n",
            "  option\n",
            "  options to\n",
            "  pass\n",
            "  multiple\n",
            "  options to\n",
            "  setup.py\n",
            "  install. If\n",
            "  you are\n",
            "  using an\n",
            "  option with\n",
            "  a directory\n",
            "  path, be\n",
            "  sure to use\n",
            "  absolute\n",
            "  path.\n",
            "  --global-option <options>\n",
            "  Extra\n",
            "  global\n",
            "  options to\n",
            "  be supplied\n",
            "  to the\n",
            "  setup.py\n",
            "  call before\n",
            "  the install\n",
            "  command.\n",
            "  --compile\n",
            "  Compile\n",
            "  Python\n",
            "  source\n",
            "  files to\n",
            "  bytecode\n",
            "  --no-compile\n",
            "  Do not\n",
            "  compile\n",
            "  Python\n",
            "  source\n",
            "  files to\n",
            "  bytecode\n",
            "  --no-warn-script-location\n",
            "  Do not warn\n",
            "  when\n",
            "  installing\n",
            "  scripts\n",
            "  outside\n",
            "  PATH\n",
            "  --no-warn-conflicts\n",
            "  Do not warn\n",
            "  about\n",
            "  broken depe\n",
            "  ndencies\n",
            "  --no-binary <format_control>\n",
            "  Do not use\n",
            "  binary\n",
            "  packages.\n",
            "  Can be\n",
            "  supplied\n",
            "  multiple\n",
            "  times, and\n",
            "  each time\n",
            "  adds to the\n",
            "  existing\n",
            "  value.\n",
            "  Accepts\n",
            "  either\n",
            "  :all: to\n",
            "  disable all\n",
            "  binary\n",
            "  packages,\n",
            "  :none: to\n",
            "  empty the\n",
            "  set, or one\n",
            "  or more\n",
            "  package\n",
            "  names with\n",
            "  commas\n",
            "  between\n",
            "  them. Note\n",
            "  that some\n",
            "  packages\n",
            "  are tricky\n",
            "  to compile\n",
            "  and may\n",
            "  fail to\n",
            "  install\n",
            "  when this\n",
            "  option is\n",
            "  used on\n",
            "  them.\n",
            "  --only-binary <format_control>\n",
            "  Do not use\n",
            "  source\n",
            "  packages.\n",
            "  Can be\n",
            "  supplied\n",
            "  multiple\n",
            "  times, and\n",
            "  each time\n",
            "  adds to the\n",
            "  existing\n",
            "  value.\n",
            "  Accepts\n",
            "  either\n",
            "  :all: to\n",
            "  disable all\n",
            "  source\n",
            "  packages,\n",
            "  :none: to\n",
            "  empty the\n",
            "  set, or one\n",
            "  or more\n",
            "  package\n",
            "  names with\n",
            "  commas\n",
            "  between\n",
            "  them.\n",
            "  Packages\n",
            "  without\n",
            "  binary dist\n",
            "  ributions\n",
            "  will fail\n",
            "  to install\n",
            "  when this\n",
            "  option is\n",
            "  used on\n",
            "  them.\n",
            "  --prefer-binary\n",
            "  Prefer\n",
            "  older\n",
            "  binary\n",
            "  packages\n",
            "  over newer\n",
            "  source\n",
            "  packages.\n",
            "  --no-clean\n",
            "  Don't clean\n",
            "  up build di\n",
            "  rectories.\n",
            "  --require-hashes\n",
            "  Require a\n",
            "  hash to\n",
            "  check each\n",
            "  requirement\n",
            "  against,\n",
            "  for\n",
            "  repeatable\n",
            "  installs.\n",
            "  This option\n",
            "  is implied\n",
            "  when any\n",
            "  package in\n",
            "  a requireme\n",
            "  nts file\n",
            "  has a\n",
            "  --hash\n",
            "  option.\n",
            "  --progress-bar <progress_bar>\n",
            "  Specify\n",
            "  type of\n",
            "  progress to\n",
            "  be\n",
            "  displayed [\n",
            "  off|on|asci\n",
            "  i|pretty|em\n",
            "  oji]\n",
            "  (default:\n",
            "  on)\n",
            "\n",
            "Package Index Options:\n",
            "  -i, --index-url <url>\n",
            "  Base URL of\n",
            "  the Python\n",
            "  Package\n",
            "  Index\n",
            "  (default ht\n",
            "  tps://pypi.\n",
            "  org/simple)\n",
            "  . This\n",
            "  should\n",
            "  point to a\n",
            "  repository\n",
            "  compliant\n",
            "  with PEP\n",
            "  503 (the\n",
            "  simple\n",
            "  repository\n",
            "  API) or a\n",
            "  local\n",
            "  directory\n",
            "  laid out in\n",
            "  the same\n",
            "  format.\n",
            "  --extra-index-url <url>\n",
            "  Extra URLs\n",
            "  of package\n",
            "  indexes to\n",
            "  use in\n",
            "  addition to\n",
            "  --index-\n",
            "  url. Should\n",
            "  follow the\n",
            "  same rules\n",
            "  as --index-\n",
            "  url.\n",
            "  --no-index\n",
            "  Ignore\n",
            "  package\n",
            "  index (only\n",
            "  looking at\n",
            "  --find-\n",
            "  links URLs\n",
            "  instead).\n",
            "  -f, --find-links <url>\n",
            "  If a url or\n",
            "  path to an\n",
            "  html file,\n",
            "  then parse\n",
            "  for links\n",
            "  to\n",
            "  archives.\n",
            "  If a local\n",
            "  path or\n",
            "  file:// url\n",
            "  that's a\n",
            "  directory,\n",
            "  then look\n",
            "  for\n",
            "  archives in\n",
            "  the\n",
            "  directory\n",
            "  listing.\n",
            "\n",
            "General Options:\n",
            "  -h, --help\n",
            "  Show help.\n",
            "  --isolated\n",
            "  Run pip in\n",
            "  an isolated\n",
            "  mode,\n",
            "  ignoring\n",
            "  environment\n",
            "  variables\n",
            "  and user co\n",
            "  nfiguration\n",
            "  .\n",
            "  -v, --verbose\n",
            "  Give more\n",
            "  output.\n",
            "  Option is\n",
            "  additive,\n",
            "  and can be\n",
            "  used up to\n",
            "  3 times.\n",
            "  -V, --version\n",
            "  Show\n",
            "  version and\n",
            "  exit.\n",
            "  -q, --quiet\n",
            "  Give less\n",
            "  output.\n",
            "  Option is\n",
            "  additive,\n",
            "  and can be\n",
            "  used up to\n",
            "  3 times (co\n",
            "  rresponding\n",
            "  to WARNING,\n",
            "  ERROR, and\n",
            "  CRITICAL\n",
            "  logging\n",
            "  levels).\n",
            "  --log <path>\n",
            "  Path to a\n",
            "  verbose\n",
            "  appending\n",
            "  log.\n",
            "  --proxy <proxy>\n",
            "  Specify a\n",
            "  proxy in\n",
            "  the form [u\n",
            "  ser:passwd@\n",
            "  ]proxy.serv\n",
            "  er:port.\n",
            "  --retries <retries>\n",
            "  Maximum\n",
            "  number of\n",
            "  retries\n",
            "  each\n",
            "  connection\n",
            "  should\n",
            "  attempt\n",
            "  (default 5\n",
            "  times).\n",
            "  --timeout <sec>\n",
            "  Set the\n",
            "  socket\n",
            "  timeout\n",
            "  (default 15\n",
            "  seconds).\n",
            "  --exists-action <action>\n",
            "  Default\n",
            "  action when\n",
            "  a path\n",
            "  already\n",
            "  exists:\n",
            "  (s)witch,\n",
            "  (i)gnore,\n",
            "  (w)ipe,\n",
            "  (b)ackup,\n",
            "  (a)bort.\n",
            "  --trusted-host <hostname>\n",
            "  Mark this\n",
            "  host as\n",
            "  trusted,\n",
            "  even though\n",
            "  it does not\n",
            "  have valid\n",
            "  or any\n",
            "  HTTPS.\n",
            "  --cert <path>\n",
            "  Path to\n",
            "  alternate\n",
            "  CA bundle.\n",
            "  --client-cert <path>\n",
            "  Path to SSL\n",
            "  client cert\n",
            "  ificate, a\n",
            "  single file\n",
            "  containing\n",
            "  the private\n",
            "  key and the\n",
            "  certificate\n",
            "  in PEM\n",
            "  format.\n",
            "  --cache-dir <dir>\n",
            "  Store the\n",
            "  cache data\n",
            "  in <dir>.\n",
            "  --no-cache-dir\n",
            "  Disable the\n",
            "  cache.\n",
            "  --disable-pip-version-check\n",
            "  Don't perio\n",
            "  dically\n",
            "  check PyPI\n",
            "  to\n",
            "  determine\n",
            "  whether a\n",
            "  new version\n",
            "  of pip is\n",
            "  available\n",
            "  for\n",
            "  download.\n",
            "  Implied\n",
            "  with --no-\n",
            "  index.\n",
            "  --no-color\n",
            "  Suppress\n",
            "  colored\n",
            "  output\n"
          ],
          "name": "stdout"
        }
      ]
    },
    {
      "cell_type": "code",
      "metadata": {
        "id": "_ypISzHZWVJd",
        "colab_type": "code",
        "outputId": "0d23e0f6-0097-4106-b2f7-c93486cf3c25",
        "colab": {
          "base_uri": "https://localhost:8080/",
          "height": 101
        }
      },
      "source": [
        "np_matrix = np.random.randint(11,size = (5,5))\n",
        "np_matrix"
      ],
      "execution_count": 0,
      "outputs": [
        {
          "output_type": "execute_result",
          "data": {
            "text/plain": [
              "array([[ 7,  4,  0,  2,  9],\n",
              "       [ 4,  3,  8,  9, 10],\n",
              "       [ 9,  8,  9,  7,  8],\n",
              "       [ 5,  3,  6,  2,  2],\n",
              "       [ 3,  0,  2, 10,  6]])"
            ]
          },
          "metadata": {
            "tags": []
          },
          "execution_count": 17
        }
      ]
    },
    {
      "cell_type": "code",
      "metadata": {
        "id": "jOPXsDsAXmoE",
        "colab_type": "code",
        "outputId": "17903d8a-a062-4290-df86-b063a783548f",
        "colab": {
          "base_uri": "https://localhost:8080/",
          "height": 34
        }
      },
      "source": [
        "np.max(np_matrix,0)"
      ],
      "execution_count": 0,
      "outputs": [
        {
          "output_type": "execute_result",
          "data": {
            "text/plain": [
              "array([ 9,  8,  9, 10, 10])"
            ]
          },
          "metadata": {
            "tags": []
          },
          "execution_count": 23
        }
      ]
    },
    {
      "cell_type": "code",
      "metadata": {
        "id": "izWvcHACYb5g",
        "colab_type": "code",
        "outputId": "b517ef7b-1080-43e0-a945-582e01fedf65",
        "colab": {
          "base_uri": "https://localhost:8080/",
          "height": 34
        }
      },
      "source": [
        "np.max(np_matrix,1)"
      ],
      "execution_count": 0,
      "outputs": [
        {
          "output_type": "execute_result",
          "data": {
            "text/plain": [
              "array([ 9, 10,  9,  6, 10])"
            ]
          },
          "metadata": {
            "tags": []
          },
          "execution_count": 24
        }
      ]
    },
    {
      "cell_type": "code",
      "metadata": {
        "id": "szGc2YIzYj2C",
        "colab_type": "code",
        "outputId": "ae2ce278-aecb-4f9a-c9ed-30b4703bbcb2",
        "colab": {
          "base_uri": "https://localhost:8080/",
          "height": 34
        }
      },
      "source": [
        "np.min(np_matrix,0)"
      ],
      "execution_count": 0,
      "outputs": [
        {
          "output_type": "execute_result",
          "data": {
            "text/plain": [
              "array([3, 0, 0, 2, 2])"
            ]
          },
          "metadata": {
            "tags": []
          },
          "execution_count": 26
        }
      ]
    },
    {
      "cell_type": "code",
      "metadata": {
        "id": "OfLflue1ZjdJ",
        "colab_type": "code",
        "outputId": "81f2c70e-7fd7-4cfd-ffa2-93875a622ea1",
        "colab": {
          "base_uri": "https://localhost:8080/",
          "height": 34
        }
      },
      "source": [
        "np.min(np_matrix,1)"
      ],
      "execution_count": 0,
      "outputs": [
        {
          "output_type": "execute_result",
          "data": {
            "text/plain": [
              "array([0, 3, 7, 2, 0])"
            ]
          },
          "metadata": {
            "tags": []
          },
          "execution_count": 27
        }
      ]
    },
    {
      "cell_type": "code",
      "metadata": {
        "id": "2UksJvqqZnAi",
        "colab_type": "code",
        "outputId": "2b6a762f-1ea9-401b-e21c-d4d3523b6d1c",
        "colab": {
          "base_uri": "https://localhost:8080/",
          "height": 34
        }
      },
      "source": [
        "np.mean(np_matrix)"
      ],
      "execution_count": 0,
      "outputs": [
        {
          "output_type": "execute_result",
          "data": {
            "text/plain": [
              "5.44"
            ]
          },
          "metadata": {
            "tags": []
          },
          "execution_count": 28
        }
      ]
    },
    {
      "cell_type": "code",
      "metadata": {
        "id": "YDbo8O4EZ8Ru",
        "colab_type": "code",
        "outputId": "b8632431-8a08-4648-f513-68bb657ded7a",
        "colab": {
          "base_uri": "https://localhost:8080/",
          "height": 34
        }
      },
      "source": [
        "np.median(np_matrix)"
      ],
      "execution_count": 0,
      "outputs": [
        {
          "output_type": "execute_result",
          "data": {
            "text/plain": [
              "6.0"
            ]
          },
          "metadata": {
            "tags": []
          },
          "execution_count": 29
        }
      ]
    },
    {
      "cell_type": "markdown",
      "metadata": {
        "id": "-0bR3Qhfaqit",
        "colab_type": "text"
      },
      "source": [
        "Find max & min index"
      ]
    },
    {
      "cell_type": "code",
      "metadata": {
        "id": "glfGkAShaXzj",
        "colab_type": "code",
        "outputId": "f6b1db15-aa41-42c4-e6c2-6a7da549d867",
        "colab": {
          "base_uri": "https://localhost:8080/",
          "height": 34
        }
      },
      "source": [
        "np.argmax(np_matrix,0)"
      ],
      "execution_count": 0,
      "outputs": [
        {
          "output_type": "execute_result",
          "data": {
            "text/plain": [
              "array([2, 2, 2, 4, 1])"
            ]
          },
          "metadata": {
            "tags": []
          },
          "execution_count": 34
        }
      ]
    },
    {
      "cell_type": "code",
      "metadata": {
        "id": "wIZTI8yPa44C",
        "colab_type": "code",
        "outputId": "39ad11b5-5bd3-4a78-e751-c5f5532d9015",
        "colab": {
          "base_uri": "https://localhost:8080/",
          "height": 34
        }
      },
      "source": [
        "np.argmin(np_matrix,0)"
      ],
      "execution_count": 0,
      "outputs": [
        {
          "output_type": "execute_result",
          "data": {
            "text/plain": [
              "array([4, 4, 0, 0, 3])"
            ]
          },
          "metadata": {
            "tags": []
          },
          "execution_count": 35
        }
      ]
    },
    {
      "cell_type": "markdown",
      "metadata": {
        "id": "GpT021LgeUl4",
        "colab_type": "text"
      },
      "source": [
        "#Arange and Linspace"
      ]
    },
    {
      "cell_type": "markdown",
      "metadata": {
        "id": "2g6VnNYneHQe",
        "colab_type": "text"
      },
      "source": [
        " Create range of value in array format"
      ]
    },
    {
      "cell_type": "code",
      "metadata": {
        "id": "un8VqUsLcCi3",
        "colab_type": "code",
        "outputId": "6c09ac45-94ac-4f93-be22-d575f5d17784",
        "colab": {
          "base_uri": "https://localhost:8080/",
          "height": 34
        }
      },
      "source": [
        "np.arange(5,10,2)"
      ],
      "execution_count": 0,
      "outputs": [
        {
          "output_type": "execute_result",
          "data": {
            "text/plain": [
              "array([5, 7, 9])"
            ]
          },
          "metadata": {
            "tags": []
          },
          "execution_count": 36
        }
      ]
    },
    {
      "cell_type": "markdown",
      "metadata": {
        "id": "xxqkc1JagalQ",
        "colab_type": "text"
      },
      "source": [
        "Separate number into equally parts"
      ]
    },
    {
      "cell_type": "code",
      "metadata": {
        "id": "m0u2EHM8eiWL",
        "colab_type": "code",
        "outputId": "e4d1189c-cba0-4dd2-e267-bdf06c6ae43d",
        "colab": {
          "base_uri": "https://localhost:8080/",
          "height": 50
        }
      },
      "source": [
        "np.linspace(5,10,10)"
      ],
      "execution_count": 0,
      "outputs": [
        {
          "output_type": "execute_result",
          "data": {
            "text/plain": [
              "array([ 5.        ,  5.55555556,  6.11111111,  6.66666667,  7.22222222,\n",
              "        7.77777778,  8.33333333,  8.88888889,  9.44444444, 10.        ])"
            ]
          },
          "metadata": {
            "tags": []
          },
          "execution_count": 37
        }
      ]
    },
    {
      "cell_type": "markdown",
      "metadata": {
        "id": "CeNH9FG7hvTA",
        "colab_type": "text"
      },
      "source": [
        "#EX 3"
      ]
    },
    {
      "cell_type": "code",
      "metadata": {
        "id": "rYQkHlVDiTEy",
        "colab_type": "code",
        "outputId": "0df907ee-1d2d-4fdc-fcde-e59704cf35bd",
        "colab": {
          "base_uri": "https://localhost:8080/",
          "height": 269
        }
      },
      "source": [
        "import matplotlib.pyplot as plt\n",
        "t = np.arange(0.0, 13.0, 0.25)\n",
        "s = np.cos(t)\n",
        "line, = plt.plot(t, s)\n",
        "plt.show()"
      ],
      "execution_count": 0,
      "outputs": [
        {
          "output_type": "display_data",
          "data": {
            "image/png": "[encoded data removed]",
            "text/plain": [
              "<Figure size 432x288 with 1 Axes>"
            ]
          },
          "metadata": {
            "tags": []
          }
        }
      ]
    },
    {
      "cell_type": "markdown",
      "metadata": {
        "id": "vGsFTk0btxAl",
        "colab_type": "text"
      },
      "source": [
        "#Reshape & Resize"
      ]
    },
    {
      "cell_type": "code",
      "metadata": {
        "id": "CoUFzU7pkCw8",
        "colab_type": "code",
        "outputId": "0dc8f04c-bc09-4fa2-a726-f5fb006dfe39",
        "colab": {
          "base_uri": "https://localhost:8080/",
          "height": 34
        }
      },
      "source": [
        "np_matrix.shape"
      ],
      "execution_count": 0,
      "outputs": [
        {
          "output_type": "execute_result",
          "data": {
            "text/plain": [
              "(5, 5)"
            ]
          },
          "metadata": {
            "tags": []
          },
          "execution_count": 91
        }
      ]
    },
    {
      "cell_type": "code",
      "metadata": {
        "id": "BY2CUdZouDr0",
        "colab_type": "code",
        "outputId": "9effa0a1-3059-4691-969d-479157a4a250",
        "colab": {
          "base_uri": "https://localhost:8080/",
          "height": 101
        }
      },
      "source": [
        "np_matrix.reshape(1,25)"
      ],
      "execution_count": 0,
      "outputs": [
        {
          "output_type": "execute_result",
          "data": {
            "text/plain": [
              "array([[0.20089612, 0.02723224, 0.14744652, 0.89218501, 0.34770653,\n",
              "        0.10990004, 0.9211778 , 0.60397861, 0.09416607, 0.35686974,\n",
              "        0.89763486, 0.67802436, 0.68014125, 0.15637547, 0.37937612,\n",
              "        0.19519857, 0.35434309, 0.52147   , 0.59975687, 0.88028547,\n",
              "        0.04998085, 0.20618842, 0.03661529, 0.69746923, 0.51944169]])"
            ]
          },
          "metadata": {
            "tags": []
          },
          "execution_count": 92
        }
      ]
    },
    {
      "cell_type": "code",
      "metadata": {
        "id": "cEDmsmOluKqk",
        "colab_type": "code",
        "outputId": "fa6e4a04-0d7c-4718-8182-3a1384b3c747",
        "colab": {
          "base_uri": "https://localhost:8080/",
          "height": 101
        }
      },
      "source": [
        "np_matrix.resize(1,25)\n",
        "np_matrix"
      ],
      "execution_count": 0,
      "outputs": [
        {
          "output_type": "execute_result",
          "data": {
            "text/plain": [
              "array([[0.20089612, 0.02723224, 0.14744652, 0.89218501, 0.34770653,\n",
              "        0.10990004, 0.9211778 , 0.60397861, 0.09416607, 0.35686974,\n",
              "        0.89763486, 0.67802436, 0.68014125, 0.15637547, 0.37937612,\n",
              "        0.19519857, 0.35434309, 0.52147   , 0.59975687, 0.88028547,\n",
              "        0.04998085, 0.20618842, 0.03661529, 0.69746923, 0.51944169]])"
            ]
          },
          "metadata": {
            "tags": []
          },
          "execution_count": 94
        }
      ]
    },
    {
      "cell_type": "markdown",
      "metadata": {
        "id": "29G9pv_nviRB",
        "colab_type": "text"
      },
      "source": [
        "#Tile (Replicate Matrix)\n",
        "Matrix Replication"
      ]
    },
    {
      "cell_type": "code",
      "metadata": {
        "id": "RiNwxNo8uVOy",
        "colab_type": "code",
        "outputId": "b5028ed3-dff9-4817-d587-f323c44f99f3",
        "colab": {
          "base_uri": "https://localhost:8080/",
          "height": 50
        }
      },
      "source": [
        "np_tile = np.array([[1,2],[3,4]])\n",
        "np.tile(np_tile,4)"
      ],
      "execution_count": 0,
      "outputs": [
        {
          "output_type": "execute_result",
          "data": {
            "text/plain": [
              "array([[1, 2, 1, 2, 1, 2, 1, 2],\n",
              "       [3, 4, 3, 4, 3, 4, 3, 4]])"
            ]
          },
          "metadata": {
            "tags": []
          },
          "execution_count": 95
        }
      ]
    },
    {
      "cell_type": "code",
      "metadata": {
        "id": "5w5FTZdNwGv9",
        "colab_type": "code",
        "outputId": "ea312896-1091-44c4-cda0-d33150a73b16",
        "colab": {
          "base_uri": "https://localhost:8080/",
          "height": 151
        }
      },
      "source": [
        "np.tile(np_tile,(4,1))"
      ],
      "execution_count": 0,
      "outputs": [
        {
          "output_type": "execute_result",
          "data": {
            "text/plain": [
              "array([[1, 2],\n",
              "       [3, 4],\n",
              "       [1, 2],\n",
              "       [3, 4],\n",
              "       [1, 2],\n",
              "       [3, 4],\n",
              "       [1, 2],\n",
              "       [3, 4]])"
            ]
          },
          "metadata": {
            "tags": []
          },
          "execution_count": 97
        }
      ]
    },
    {
      "cell_type": "markdown",
      "metadata": {
        "id": "bGp0pPvAxGq-",
        "colab_type": "text"
      },
      "source": [
        "#EX 4"
      ]
    },
    {
      "cell_type": "code",
      "metadata": {
        "id": "sXJSVikHw2W1",
        "colab_type": "code",
        "outputId": "976b72e5-31f7-41df-ef66-840c761a2cf0",
        "colab": {
          "base_uri": "https://localhost:8080/",
          "height": 102
        }
      },
      "source": [
        "np_test = np.arange(25).reshape(5,5)\n",
        "np_test"
      ],
      "execution_count": 84,
      "outputs": [
        {
          "output_type": "execute_result",
          "data": {
            "text/plain": [
              "array([[ 0,  1,  2,  3,  4],\n",
              "       [ 5,  6,  7,  8,  9],\n",
              "       [10, 11, 12, 13, 14],\n",
              "       [15, 16, 17, 18, 19],\n",
              "       [20, 21, 22, 23, 24]])"
            ]
          },
          "metadata": {
            "tags": []
          },
          "execution_count": 84
        }
      ]
    },
    {
      "cell_type": "code",
      "metadata": {
        "id": "fv2p0LXaxyTc",
        "colab_type": "code",
        "outputId": "853c2dd7-e39b-4395-9253-cb7f3c128afc",
        "colab": {
          "base_uri": "https://localhost:8080/",
          "height": 102
        }
      },
      "source": [
        "x = np.mod(np_test,3) ==0\n",
        "x\n"
      ],
      "execution_count": 92,
      "outputs": [
        {
          "output_type": "execute_result",
          "data": {
            "text/plain": [
              "array([[ True, False, False,  True, False],\n",
              "       [False,  True, False, False,  True],\n",
              "       [False, False,  True, False, False],\n",
              "       [ True, False, False,  True, False],\n",
              "       [False,  True, False, False,  True]])"
            ]
          },
          "metadata": {
            "tags": []
          },
          "execution_count": 92
        }
      ]
    },
    {
      "cell_type": "code",
      "metadata": {
        "id": "y1upaDm7FW9W",
        "colab_type": "code",
        "colab": {
          "base_uri": "https://localhost:8080/",
          "height": 34
        },
        "outputId": "d1e38c18-fbd4-4c16-fed0-d4c4bd3cb1d6"
      },
      "source": [
        "y = np.where(x)\n",
        "y"
      ],
      "execution_count": 93,
      "outputs": [
        {
          "output_type": "execute_result",
          "data": {
            "text/plain": [
              "(array([0, 0, 1, 1, 2, 3, 3, 4, 4]), array([0, 3, 1, 4, 2, 0, 3, 1, 4]))"
            ]
          },
          "metadata": {
            "tags": []
          },
          "execution_count": 93
        }
      ]
    },
    {
      "cell_type": "code",
      "metadata": {
        "id": "DOf6Y4O8xZpM",
        "colab_type": "code",
        "colab": {
          "base_uri": "https://localhost:8080/",
          "height": 34
        },
        "outputId": "33369a7e-dff0-404f-d27e-8b991fb4e999"
      },
      "source": [
        "np_test[y]\n"
      ],
      "execution_count": 89,
      "outputs": [
        {
          "output_type": "execute_result",
          "data": {
            "text/plain": [
              "array([ 0,  3,  6,  9, 12, 15, 18, 21, 24])"
            ]
          },
          "metadata": {
            "tags": []
          },
          "execution_count": 89
        }
      ]
    },
    {
      "cell_type": "markdown",
      "metadata": {
        "id": "kUTsbeuKzZNT",
        "colab_type": "text"
      },
      "source": [
        "#EX 5"
      ]
    },
    {
      "cell_type": "code",
      "metadata": {
        "id": "H5wdH3_9y5At",
        "colab_type": "code",
        "outputId": "a75fe131-c530-41bd-af26-ac37aba56cf7",
        "colab": {
          "base_uri": "https://localhost:8080/",
          "height": 101
        }
      },
      "source": [
        "np_test = np.arange(25).reshape(5,5)\n",
        "np_test"
      ],
      "execution_count": 0,
      "outputs": [
        {
          "output_type": "execute_result",
          "data": {
            "text/plain": [
              "array([[ 0,  1,  2,  3,  4],\n",
              "       [ 5,  6,  7,  8,  9],\n",
              "       [10, 11, 12, 13, 14],\n",
              "       [15, 16, 17, 18, 19],\n",
              "       [20, 21, 22, 23, 24]])"
            ]
          },
          "metadata": {
            "tags": []
          },
          "execution_count": 120
        }
      ]
    },
    {
      "cell_type": "code",
      "metadata": {
        "id": "OrO4iIDi1IJf",
        "colab_type": "code",
        "colab": {}
      },
      "source": [
        "np.fill_diagonal(np_test, 0)\n"
      ],
      "execution_count": 0,
      "outputs": []
    },
    {
      "cell_type": "code",
      "metadata": {
        "id": "5-jRn5OT4sp0",
        "colab_type": "code",
        "outputId": "65ae1a87-2bfe-439f-f29b-6858c1ccbd8c",
        "colab": {
          "base_uri": "https://localhost:8080/",
          "height": 101
        }
      },
      "source": [
        "np_test"
      ],
      "execution_count": 0,
      "outputs": [
        {
          "output_type": "execute_result",
          "data": {
            "text/plain": [
              "array([[ 0,  1,  2,  3,  4],\n",
              "       [ 5,  0,  7,  8,  9],\n",
              "       [10, 11,  0, 13, 14],\n",
              "       [15, 16, 17,  0, 19],\n",
              "       [20, 21, 22, 23,  0]])"
            ]
          },
          "metadata": {
            "tags": []
          },
          "execution_count": 132
        }
      ]
    },
    {
      "cell_type": "code",
      "metadata": {
        "id": "jUK-SzbM7BjW",
        "colab_type": "code",
        "colab": {}
      },
      "source": [
        ""
      ],
      "execution_count": 0,
      "outputs": []
    },
    {
      "cell_type": "code",
      "metadata": {
        "id": "16id1XghZIO2",
        "colab_type": "code",
        "colab": {}
      },
      "source": [
        "import numpy as np"
      ],
      "execution_count": 0,
      "outputs": []
    },
    {
      "cell_type": "markdown",
      "metadata": {
        "id": "qdGtl27cYFl_",
        "colab_type": "text"
      },
      "source": [
        "#Load Titanic Data\n"
      ]
    },
    {
      "cell_type": "markdown",
      "metadata": {
        "id": "S0cGhIL_xKTr",
        "colab_type": "text"
      },
      "source": [
        "load titanic from gihub\\\n",
        "you must use the link https://raw.githubusercontent.com/kamonsiri080/DW/master/titanic.csv \\\n",
        "\n",
        "please careful about delimiter, need to make sure that delimiter is not in data"
      ]
    },
    {
      "cell_type": "code",
      "metadata": {
        "id": "lOouwUHbwiGM",
        "colab_type": "code",
        "colab": {
          "base_uri": "https://localhost:8080/",
          "height": 238
        },
        "outputId": "c4d14db9-05c7-4962-ad07-e289a5cf9c55"
      },
      "source": [
        "import numpy as np\n",
        "titanic = np.genfromtxt(\"https://raw.githubusercontent.com/kamonsiri080/DW/master/titanic.csv\",delimiter = \";\", dtype = str, missing_values = None)\n",
        "titanic"
      ],
      "execution_count": 29,
      "outputs": [
        {
          "output_type": "execute_result",
          "data": {
            "text/plain": [
              "array([['First', 'Allen, Miss. Elisabeth Walton', 'Female', ...,\n",
              "        'Southampton', '2', 'Yes'],\n",
              "       ['First', 'Allison, Master. Hudson Trevor', 'Male', ...,\n",
              "        'Southampton', '11', 'Yes'],\n",
              "       ['First', 'Allison, Miss. Helen Loraine', 'Female', ...,\n",
              "        'Southampton', '', 'No'],\n",
              "       ...,\n",
              "       ['Third', 'Zakarian, Mr. Mapriededer', 'Male', ..., 'Cherbourg',\n",
              "        '', 'No'],\n",
              "       ['Third', 'Zakarian, Mr. Ortin', 'Male', ..., 'Cherbourg', '',\n",
              "        'No'],\n",
              "       ['Third', 'Zimmerman, Mr. Leo', 'Male', ..., 'Southampton', '',\n",
              "        'No']], dtype='<U82')"
            ]
          },
          "metadata": {
            "tags": []
          },
          "execution_count": 29
        }
      ]
    },
    {
      "cell_type": "markdown",
      "metadata": {
        "id": "NeiGHA0c5GFq",
        "colab_type": "text"
      },
      "source": [
        "#Remove unwanted faeture"
      ]
    },
    {
      "cell_type": "code",
      "metadata": {
        "id": "fiOGio8P8ZOR",
        "colab_type": "code",
        "colab": {
          "base_uri": "https://localhost:8080/",
          "height": 68
        },
        "outputId": "d2a716fd-1cfc-4eb3-8468-e1fc6c35d866"
      },
      "source": [
        "titanic[0,:]"
      ],
      "execution_count": 40,
      "outputs": [
        {
          "output_type": "execute_result",
          "data": {
            "text/plain": [
              "array(['First', 'Allen, Miss. Elisabeth Walton', 'Female', '29.0', '0',\n",
              "       '0', '24160', '211.3375', 'B5', 'Southampton', '2', 'Yes'],\n",
              "      dtype='<U82')"
            ]
          },
          "metadata": {
            "tags": []
          },
          "execution_count": 40
        }
      ]
    },
    {
      "cell_type": "code",
      "metadata": {
        "id": "Aw8WC8vh5L0S",
        "colab_type": "code",
        "colab": {}
      },
      "source": [
        "titanic_clean = np.delete(titanic,[1,6,7,8,9,10],1)"
      ],
      "execution_count": 0,
      "outputs": []
    },
    {
      "cell_type": "code",
      "metadata": {
        "id": "O2vkH_AV5tJy",
        "colab_type": "code",
        "colab": {
          "base_uri": "https://localhost:8080/",
          "height": 34
        },
        "outputId": "1207550d-ef7e-43c8-b1dc-b66102ce1ece"
      },
      "source": [
        "titanic_clean[0,:]"
      ],
      "execution_count": 32,
      "outputs": [
        {
          "output_type": "execute_result",
          "data": {
            "text/plain": [
              "array(['First', 'Female', '29.0', '0', '0', 'Yes'], dtype='<U82')"
            ]
          },
          "metadata": {
            "tags": []
          },
          "execution_count": 32
        }
      ]
    },
    {
      "cell_type": "markdown",
      "metadata": {
        "id": "J35V-QYO_o63",
        "colab_type": "text"
      },
      "source": [
        "#Remove row with missing value"
      ]
    },
    {
      "cell_type": "code",
      "metadata": {
        "id": "NMaK6-487QxM",
        "colab_type": "code",
        "colab": {
          "base_uri": "https://localhost:8080/",
          "height": 34
        },
        "outputId": "5a37f045-a71d-4311-d9e3-8e2be3f7b653"
      },
      "source": [
        "rows,cols = np.where(titanic_clean == None)\n",
        "print(str(len(np.unique(rows)))+\" \"+str(len(np.unique(cols))))"
      ],
      "execution_count": 53,
      "outputs": [
        {
          "output_type": "stream",
          "text": [
            "0 0\n"
          ],
          "name": "stdout"
        }
      ]
    },
    {
      "cell_type": "code",
      "metadata": {
        "id": "3HdED7L2AxBM",
        "colab_type": "code",
        "colab": {
          "base_uri": "https://localhost:8080/",
          "height": 34
        },
        "outputId": "0337f787-67a9-44b6-c791-3aef4f6d681b"
      },
      "source": [
        "rows,cols = np.where(titanic_clean == '')\n",
        "print(str(len(np.unique(rows)))+\" \"+str(len(np.unique(cols))))"
      ],
      "execution_count": 54,
      "outputs": [
        {
          "output_type": "stream",
          "text": [
            "263 1\n"
          ],
          "name": "stdout"
        }
      ]
    },
    {
      "cell_type": "code",
      "metadata": {
        "id": "Nt9nlT-7BPDW",
        "colab_type": "code",
        "colab": {
          "base_uri": "https://localhost:8080/",
          "height": 34
        },
        "outputId": "a3112b0c-99d1-464b-c246-aca549ae1c52"
      },
      "source": [
        "titanic_clean = np.delete(titanic_clean,2,1)\n",
        "titanic_clean[0,:]"
      ],
      "execution_count": 57,
      "outputs": [
        {
          "output_type": "execute_result",
          "data": {
            "text/plain": [
              "array(['First', 'Female', '0', '0', 'Yes'], dtype='<U82')"
            ]
          },
          "metadata": {
            "tags": []
          },
          "execution_count": 57
        }
      ]
    },
    {
      "cell_type": "markdown",
      "metadata": {
        "id": "YgnfugFyB7Y7",
        "colab_type": "text"
      },
      "source": [
        "#Exploration Passenger Class"
      ]
    },
    {
      "cell_type": "code",
      "metadata": {
        "id": "wh30E_VRBr71",
        "colab_type": "code",
        "colab": {}
      },
      "source": [
        "header = titanic_clean[0,:]; titanic_clean = np.delete(titanic_clean,0,0)"
      ],
      "execution_count": 0,
      "outputs": []
    },
    {
      "cell_type": "code",
      "metadata": {
        "id": "aCR1No7YCQHE",
        "colab_type": "code",
        "colab": {
          "base_uri": "https://localhost:8080/",
          "height": 34
        },
        "outputId": "1cdf105d-22b3-4e04-bf86-c868fcd4783e"
      },
      "source": [
        "passenger_class = np.unique(titanic_clean[:,0])\n",
        "passenger_class"
      ],
      "execution_count": 61,
      "outputs": [
        {
          "output_type": "execute_result",
          "data": {
            "text/plain": [
              "array(['First', 'Second', 'Third'], dtype='<U82')"
            ]
          },
          "metadata": {
            "tags": []
          },
          "execution_count": 61
        }
      ]
    },
    {
      "cell_type": "code",
      "metadata": {
        "id": "GU3PU7s8CjsM",
        "colab_type": "code",
        "colab": {
          "base_uri": "https://localhost:8080/",
          "height": 34
        },
        "outputId": "63c91f7a-8eac-452b-c66c-bdaf9befc217"
      },
      "source": [
        "passenger_class_value = [sum(titanic_clean[:,0]==passenger_class[0]),\n",
        "                         sum(titanic_clean[:,0]==passenger_class[1]),\n",
        "                         sum(titanic_clean[:,0]==passenger_class[2])]\n",
        "passenger_class_value                     "
      ],
      "execution_count": 64,
      "outputs": [
        {
          "output_type": "execute_result",
          "data": {
            "text/plain": [
              "[322, 277, 709]"
            ]
          },
          "metadata": {
            "tags": []
          },
          "execution_count": 64
        }
      ]
    },
    {
      "cell_type": "markdown",
      "metadata": {
        "id": "uRZERSFjD_2Q",
        "colab_type": "text"
      },
      "source": [
        "#Exploration Passenger Class"
      ]
    },
    {
      "cell_type": "code",
      "metadata": {
        "id": "fLXcZDeFEFlZ",
        "colab_type": "code",
        "colab": {
          "base_uri": "https://localhost:8080/",
          "height": 286
        },
        "outputId": "ca2d3c57-2cc6-4376-c889-aa8b632c6597"
      },
      "source": [
        "import matplotlib.pyplot as plt\n",
        "plt.bar(passenger_class,passenger_class_value)"
      ],
      "execution_count": 66,
      "outputs": [
        {
          "output_type": "execute_result",
          "data": {
            "text/plain": [
              "<BarContainer object of 3 artists>"
            ]
          },
          "metadata": {
            "tags": []
          },
          "execution_count": 66
        },
        {
          "output_type": "display_data",
          "data": {
            "image/png": "[encoded data removed]",
            "text/plain": [
              "<Figure size 432x288 with 1 Axes>"
            ]
          },
          "metadata": {
            "tags": []
          }
        }
      ]
    },
    {
      "cell_type": "markdown",
      "metadata": {
        "id": "4Zm1Xxe4EkaP",
        "colab_type": "text"
      },
      "source": [
        "#Ex 6"
      ]
    },
    {
      "cell_type": "code",
      "metadata": {
        "id": "hKasQMARLFvg",
        "colab_type": "code",
        "colab": {
          "base_uri": "https://localhost:8080/",
          "height": 34
        },
        "outputId": "d131f9e7-1340-4ea7-f58c-a58301bcf711"
      },
      "source": [
        "sex = np.unique(titanic_clean[:,1])\n",
        "sex"
      ],
      "execution_count": 102,
      "outputs": [
        {
          "output_type": "execute_result",
          "data": {
            "text/plain": [
              "array(['Female', 'Male'], dtype='<U82')"
            ]
          },
          "metadata": {
            "tags": []
          },
          "execution_count": 102
        }
      ]
    },
    {
      "cell_type": "code",
      "metadata": {
        "id": "a9hfBvqvLohB",
        "colab_type": "code",
        "colab": {
          "base_uri": "https://localhost:8080/",
          "height": 34
        },
        "outputId": "091b4d84-2ac7-4aeb-a085-97fa78caa0d8"
      },
      "source": [
        "sex_value = [sum(titanic_clean[:,1]==sex[0]),\n",
        "             sum(titanic_clean[:,1]==sex[1])]\n",
        "sex_value"
      ],
      "execution_count": 104,
      "outputs": [
        {
          "output_type": "execute_result",
          "data": {
            "text/plain": [
              "[464, 842]"
            ]
          },
          "metadata": {
            "tags": []
          },
          "execution_count": 104
        }
      ]
    },
    {
      "cell_type": "code",
      "metadata": {
        "id": "UkNqkjKcERor",
        "colab_type": "code",
        "colab": {
          "base_uri": "https://localhost:8080/",
          "height": 269
        },
        "outputId": "b83c2720-b306-4675-fa70-75dc4ee69729"
      },
      "source": [
        "import matplotlib.pyplot as plt\n",
        "fig,axes = plt.bar(sex,sex_value)"
      ],
      "execution_count": 105,
      "outputs": [
        {
          "output_type": "display_data",
          "data": {
            "image/png": "[encoded data removed]",
            "text/plain": [
              "<Figure size 432x288 with 1 Axes>"
            ]
          },
          "metadata": {
            "tags": []
          }
        }
      ]
    },
    {
      "cell_type": "code",
      "metadata": {
        "id": "QdVLLptgHxOM",
        "colab_type": "code",
        "colab": {
          "base_uri": "https://localhost:8080/",
          "height": 34
        },
        "outputId": "2b1758b3-9f07-4836-9be7-7f5d7819d21d"
      },
      "source": [
        "survived = np.unique(titanic_clean[:,4])\n",
        "                                \n",
        "survived"
      ],
      "execution_count": 108,
      "outputs": [
        {
          "output_type": "execute_result",
          "data": {
            "text/plain": [
              "array(['No', 'Yes'], dtype='<U82')"
            ]
          },
          "metadata": {
            "tags": []
          },
          "execution_count": 108
        }
      ]
    },
    {
      "cell_type": "code",
      "metadata": {
        "id": "9mNHJxyuMwWm",
        "colab_type": "code",
        "colab": {
          "base_uri": "https://localhost:8080/",
          "height": 34
        },
        "outputId": "b8729558-6c6e-4a4f-8565-46d1458631dd"
      },
      "source": [
        "survived_value = [sum(titanic_clean[:,4]==survived[0]),\n",
        "             sum(titanic_clean[:,4]==survived[1])]\n",
        "survived_value"
      ],
      "execution_count": 110,
      "outputs": [
        {
          "output_type": "execute_result",
          "data": {
            "text/plain": [
              "[808, 498]"
            ]
          },
          "metadata": {
            "tags": []
          },
          "execution_count": 110
        }
      ]
    },
    {
      "cell_type": "code",
      "metadata": {
        "id": "5AAfalQHNQvg",
        "colab_type": "code",
        "colab": {
          "base_uri": "https://localhost:8080/",
          "height": 269
        },
        "outputId": "5a8ca683-44e5-4f46-d998-d35ccd496cb1"
      },
      "source": [
        "import matplotlib.pyplot as plt\n",
        "fig,axes = plt.bar(survived,survived_value)"
      ],
      "execution_count": 111,
      "outputs": [
        {
          "output_type": "display_data",
          "data": {
            "image/png": "[encoded data removed]",
            "text/plain": [
              "<Figure size 432x288 with 1 Axes>"
            ]
          },
          "metadata": {
            "tags": []
          }
        }
      ]
    },
    {
      "cell_type": "code",
      "metadata": {
        "id": "ePDyHsklNX_A",
        "colab_type": "code",
        "colab": {
          "base_uri": "https://localhost:8080/",
          "height": 214
        },
        "outputId": "edebf6b8-c857-4d29-9ad4-fe65b97e6aad"
      },
      "source": [
        "sex = np.unique(titanic_clean[:,1])\n",
        "sex_value = [sum(titanic_clean[:,1]==sex[0]),sum(titanic_clean[:,1]==sex[1])]\n",
        "survived = np.unique(titanic_clean[:,4])\n",
        "survived_value = [sum(titanic_clean[:,4]==survived[0]),sum(titanic_clean[:,4]==survived[1])]\n",
        "\n",
        "import matplotlib.pyplot as plt\n",
        "fig,axes = plt.subplots(1,2,figsize=(8,3))\n",
        "axes[0].bar(sex,sex_value)\n",
        "axes[1].bar(survived,survived_value)\n",
        "plt.show()"
      ],
      "execution_count": 125,
      "outputs": [
        {
          "output_type": "display_data",
          "data": {
            "image/png": "[encoded data removed]",
            "text/plain": [
              "<Figure size 576x216 with 2 Axes>"
            ]
          },
          "metadata": {
            "tags": []
          }
        }
      ]
    },
    {
      "cell_type": "markdown",
      "metadata": {
        "id": "7N-TN9k3SDga",
        "colab_type": "text"
      },
      "source": [
        "#String to Numerical & Label Encoder\n",
        "\n"
      ]
    },
    {
      "cell_type": "code",
      "metadata": {
        "id": "LCPXEnMIN99o",
        "colab_type": "code",
        "colab": {
          "base_uri": "https://localhost:8080/",
          "height": 136
        },
        "outputId": "b92bbcdc-71be-409e-b452-816bc6fcba00"
      },
      "source": [
        "titanic_clean[titanic_clean == passenger_class[0]] = 0\n",
        "titanic_clean[titanic_clean == passenger_class[1]] = 1\n",
        "titanic_clean[titanic_clean == passenger_class[2]] = 2\n",
        "titanic_clean[titanic_clean == sex[0]] = 0\n",
        "titanic_clean[titanic_clean == sex[1]] = 1\n",
        "titanic_clean[titanic_clean == survived[0]] = 0\n",
        "titanic_clean[titanic_clean == survived[1]] = 1\n",
        "titanic_clean"
      ],
      "execution_count": 126,
      "outputs": [
        {
          "output_type": "execute_result",
          "data": {
            "text/plain": [
              "array([['0', '1', '1', '2', '0'],\n",
              "       ['0', '0', '1', '2', '0'],\n",
              "       ['0', '1', '0', '0', '1'],\n",
              "       ...,\n",
              "       ['2', '1', '0', '0', '0'],\n",
              "       ['2', '1', '0', '0', '0'],\n",
              "       ['2', '1', '0', '0', '0']], dtype='<U82')"
            ]
          },
          "metadata": {
            "tags": []
          },
          "execution_count": 126
        }
      ]
    },
    {
      "cell_type": "markdown",
      "metadata": {
        "id": "5PR7908gS0gj",
        "colab_type": "text"
      },
      "source": [
        "#Separate Data & Label"
      ]
    },
    {
      "cell_type": "code",
      "metadata": {
        "id": "Ac6LtTq7SzEc",
        "colab_type": "code",
        "colab": {
          "base_uri": "https://localhost:8080/",
          "height": 34
        },
        "outputId": "f5bcf602-9ef7-4752-b11d-a99255f17237"
      },
      "source": [
        "titanic_clean = titanic_clean.astype('float')\n",
        "titanic_clean.dtype"
      ],
      "execution_count": 127,
      "outputs": [
        {
          "output_type": "execute_result",
          "data": {
            "text/plain": [
              "dtype('float64')"
            ]
          },
          "metadata": {
            "tags": []
          },
          "execution_count": 127
        }
      ]
    },
    {
      "cell_type": "code",
      "metadata": {
        "id": "NL3txPL9TFDS",
        "colab_type": "code",
        "colab": {
          "base_uri": "https://localhost:8080/",
          "height": 34
        },
        "outputId": "5440de4a-e76c-41f1-8478-f12c28d81e60"
      },
      "source": [
        "y = titanic_clean[:,-1]\n",
        "x = np.delete(titanic_clean,-1,1)\n",
        "x.shape"
      ],
      "execution_count": 129,
      "outputs": [
        {
          "output_type": "execute_result",
          "data": {
            "text/plain": [
              "(1306, 4)"
            ]
          },
          "metadata": {
            "tags": []
          },
          "execution_count": 129
        }
      ]
    },
    {
      "cell_type": "markdown",
      "metadata": {
        "id": "qVwbluytTl0I",
        "colab_type": "text"
      },
      "source": [
        "#EX 7"
      ]
    },
    {
      "cell_type": "code",
      "metadata": {
        "id": "rlk3UqSjTSTS",
        "colab_type": "code",
        "colab": {}
      },
      "source": [
        "x_norm = "
      ],
      "execution_count": 0,
      "outputs": []
    }
  ]
}